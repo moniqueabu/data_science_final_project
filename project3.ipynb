{
  "cells": [
    {
      "cell_type": "markdown",
      "metadata": {
        "id": "view-in-github",
        "colab_type": "text"
      },
      "source": [
        "<a href=\"https://colab.research.google.com/github/moniqueabu/data_science_final_project/blob/main/project3.ipynb\" target=\"_parent\"><img src=\"https://colab.research.google.com/assets/colab-badge.svg\" alt=\"Open In Colab\"/></a>"
      ]
    },
    {
      "cell_type": "markdown",
      "id": "b8688a40",
      "metadata": {
        "id": "b8688a40"
      },
      "source": [
        "Data Science Project\n",
        "https://www.kaggle.com/datasets/osmi/mental-health-in-tech-survey"
      ]
    },
    {
      "cell_type": "markdown",
      "source": [
        "# New Section"
      ],
      "metadata": {
        "id": "gD73nv3H0QIK"
      },
      "id": "gD73nv3H0QIK"
    },
    {
      "cell_type": "code",
      "source": [
        "!pip install dc_stat_think"
      ],
      "metadata": {
        "colab": {
          "base_uri": "https://localhost:8080/"
        },
        "id": "yGqWECklgDF0",
        "outputId": "b6b67047-952f-4888-9a5f-74d69e02bda5"
      },
      "id": "yGqWECklgDF0",
      "execution_count": null,
      "outputs": [
        {
          "output_type": "stream",
          "name": "stdout",
          "text": [
            "Requirement already satisfied: dc_stat_think in /usr/local/lib/python3.7/dist-packages (1.1.1)\n"
          ]
        }
      ]
    },
    {
      "cell_type": "code",
      "execution_count": null,
      "id": "a496825e",
      "metadata": {
        "id": "a496825e"
      },
      "outputs": [],
      "source": [
        "import pandas as pd\n",
        "import numpy as np\n",
        "import matplotlib.pyplot as plt\n",
        "import matplotlib.cm as cm \n",
        "import seaborn as sns\n",
        "from sklearn.neighbors import KNeighborsClassifier \n",
        "from sklearn.model_selection import train_test_split\n",
        "from sklearn.cluster import KMeans\n",
        "import dc_stat_think as  dcst \n",
        "import itertools\n",
        "from sklearn.preprocessing import OrdinalEncoder\n",
        "from sklearn.neighbors import KNeighborsClassifier\n",
        "from sklearn.model_selection import train_test_split\n",
        "from sklearn.metrics import accuracy_score\n",
        "from sklearn import metrics\n",
        "\n",
        "\n",
        "#hi "
      ]
    },
    {
      "cell_type": "code",
      "source": [
        "from google.colab import drive\n",
        "drive.mount('/content/drive')"
      ],
      "metadata": {
        "colab": {
          "base_uri": "https://localhost:8080/"
        },
        "id": "svL2Kbk_iKK3",
        "outputId": "68fd4700-0952-46b3-8b67-3a2dc891ed66"
      },
      "id": "svL2Kbk_iKK3",
      "execution_count": null,
      "outputs": [
        {
          "output_type": "stream",
          "name": "stdout",
          "text": [
            "Drive already mounted at /content/drive; to attempt to forcibly remount, call drive.mount(\"/content/drive\", force_remount=True).\n"
          ]
        }
      ]
    },
    {
      "cell_type": "code",
      "execution_count": null,
      "id": "b15005f0",
      "metadata": {
        "id": "b15005f0"
      },
      "outputs": [],
      "source": [
        "df = pd.read_csv(\"survey.csv\")"
      ]
    },
    {
      "cell_type": "code",
      "execution_count": null,
      "id": "cc25f7c1",
      "metadata": {
        "scrolled": true,
        "id": "cc25f7c1"
      },
      "outputs": [],
      "source": [
        "#df.value_counts(subset=\"Gender\")"
      ]
    },
    {
      "cell_type": "code",
      "execution_count": null,
      "id": "c5ee37ab",
      "metadata": {
        "id": "c5ee37ab"
      },
      "outputs": [],
      "source": [
        "#Cleaning gender column\n",
        "female_names = {'Female ','f','female', 'F', 'Woman', 'Female', 'femail', 'cis-female/femme', 'Trans-female', 'Cis Female', 'Femake', 'Female (cis)', 'Trans woman','woman', \"Female (trans)\" }\n",
        "male_names = {'Male', 'Male ', 'male', 'M', 'm', 'Make', 'Male-ish', 'Man', 'Cis Male', 'maile', 'msle', 'ostensibly male, unsure what that really means', 'cis male', 'Malr', 'Male (CIS)', 'Mal', 'Mail', 'Guy (-ish) ^_^', 'Cis Man', 'something kinda male?'}\n",
        "non_names = {'Agender', 'All', 'Androgyne', 'Enby', 'Genderqueer', 'Nah', 'male leaning androgynous', 'fluid', 'Neuter', 'non-binary', 'queer', 'queer/she/they'}\n",
        "df.replace(to_replace = female_names, value = \"Female\", inplace=True)\n",
        "df.replace(to_replace = male_names, value = \"Male\", inplace=True)\n",
        "df.replace(to_replace = non_names, value = \"Gender non-conforming\", inplace=True)\n",
        "#print(df)"
      ]
    },
    {
      "cell_type": "code",
      "execution_count": null,
      "id": "ed65c969",
      "metadata": {
        "scrolled": true,
        "id": "ed65c969",
        "colab": {
          "base_uri": "https://localhost:8080/"
        },
        "outputId": "30a16a76-0c02-410b-e280-7ce42c1a7536"
      },
      "outputs": [
        {
          "output_type": "execute_result",
          "data": {
            "text/plain": [
              "Gender\n",
              "Male                     994\n",
              "Female                   251\n",
              "Gender non-conforming     12\n",
              "A little about you         1\n",
              "p                          1\n",
              "dtype: int64"
            ]
          },
          "metadata": {},
          "execution_count": 21
        }
      ],
      "source": [
        "df.value_counts(subset=\"Gender\")"
      ]
    },
    {
      "cell_type": "code",
      "execution_count": null,
      "id": "369a3b7d",
      "metadata": {
        "id": "369a3b7d"
      },
      "outputs": [],
      "source": [
        "#delete p and a little about you \n",
        "df.drop(df.loc[df[\"Gender\"] == \"p\"].index, inplace = True)\n",
        "df.drop(df.loc[df[\"Gender\"] == \"A little about you\"].index, inplace = True)"
      ]
    },
    {
      "cell_type": "code",
      "execution_count": null,
      "id": "c9cb37bb",
      "metadata": {
        "id": "c9cb37bb",
        "colab": {
          "base_uri": "https://localhost:8080/"
        },
        "outputId": "0aac3de5-ab01-4eb2-d0ad-b9fda2129383"
      },
      "outputs": [
        {
          "output_type": "execute_result",
          "data": {
            "text/plain": [
              "Gender\n",
              "Male                     994\n",
              "Female                   251\n",
              "Gender non-conforming     12\n",
              "dtype: int64"
            ]
          },
          "metadata": {},
          "execution_count": 23
        }
      ],
      "source": [
        "df.value_counts(subset=\"Gender\")"
      ]
    },
    {
      "cell_type": "code",
      "execution_count": null,
      "id": "0fe8c3ac",
      "metadata": {
        "id": "0fe8c3ac",
        "colab": {
          "base_uri": "https://localhost:8080/"
        },
        "outputId": "c6079748-47df-4e0a-ef75-31b41ed44f4c"
      },
      "outputs": [
        {
          "output_type": "execute_result",
          "data": {
            "text/plain": [
              "Age\n",
              "29    85\n",
              "32    82\n",
              "26    75\n",
              "27    71\n",
              "33    70\n",
              "28    68\n",
              "31    67\n",
              "34    65\n",
              "30    63\n",
              "25    61\n",
              "35    55\n",
              "23    51\n",
              "24    46\n",
              "37    43\n",
              "38    39\n",
              "36    37\n",
              "39    33\n",
              "40    33\n",
              "43    28\n",
              "22    21\n",
              "41    21\n",
              "42    20\n",
              "21    16\n",
              "45    12\n",
              "46    12\n",
              "44    11\n",
              "19     9\n",
              "18     7\n",
              "20     6\n",
              "48     6\n",
              "50     6\n",
              "51     5\n",
              "56     4\n",
              "49     4\n",
              "57     3\n",
              "55     3\n",
              "54     3\n",
              "47     2\n",
              "60     2\n",
              "53     1\n",
              "58     1\n",
              "61     1\n",
              "62     1\n",
              "65     1\n",
              "72     1\n",
              "dtype: int64"
            ]
          },
          "metadata": {},
          "execution_count": 24
        }
      ],
      "source": [
        "df.drop(df.loc[df[\"Age\"] > 100].index, inplace = True)\n",
        "df.drop(df.loc[df[\"Age\"] < 18].index, inplace = True)\n",
        "df.value_counts(subset=\"Age\")"
      ]
    },
    {
      "cell_type": "code",
      "execution_count": null,
      "id": "03227b1f",
      "metadata": {
        "id": "03227b1f",
        "colab": {
          "base_uri": "https://localhost:8080/"
        },
        "outputId": "d90ba112-14bc-4f16-e6ce-91feb447ddb6"
      },
      "outputs": [
        {
          "output_type": "execute_result",
          "data": {
            "text/plain": [
              "treatment\n",
              "Yes    632\n",
              "No     619\n",
              "dtype: int64"
            ]
          },
          "metadata": {},
          "execution_count": 25
        }
      ],
      "source": [
        "df.value_counts(subset=\"treatment\")"
      ]
    },
    {
      "cell_type": "code",
      "execution_count": null,
      "id": "1b448c7b",
      "metadata": {
        "id": "1b448c7b",
        "colab": {
          "base_uri": "https://localhost:8080/",
          "height": 534
        },
        "outputId": "7e3978d6-e583-402f-8102-5df4d295541c"
      },
      "outputs": [
        {
          "output_type": "execute_result",
          "data": {
            "text/plain": [
              "                  Timestamp          Age Gender        Country state  \\\n",
              "count                  1251  1251.000000   1251           1251   738   \n",
              "unique                 1239          NaN      3             46    45   \n",
              "top     2014-08-27 12:44:51          NaN   Male  United States    CA   \n",
              "freq                      2          NaN    989            746   138   \n",
              "mean                    NaN    32.076739    NaN            NaN   NaN   \n",
              "std                     NaN     7.288272    NaN            NaN   NaN   \n",
              "min                     NaN    18.000000    NaN            NaN   NaN   \n",
              "25%                     NaN    27.000000    NaN            NaN   NaN   \n",
              "50%                     NaN    31.000000    NaN            NaN   NaN   \n",
              "75%                     NaN    36.000000    NaN            NaN   NaN   \n",
              "max                     NaN    72.000000    NaN            NaN   NaN   \n",
              "\n",
              "       self_employed family_history treatment work_interfere no_employees  \\\n",
              "count           1233           1251      1251            989         1251   \n",
              "unique             2              2         2              4            6   \n",
              "top               No             No       Yes      Sometimes         6-25   \n",
              "freq            1091            762       632            464          289   \n",
              "mean             NaN            NaN       NaN            NaN          NaN   \n",
              "std              NaN            NaN       NaN            NaN          NaN   \n",
              "min              NaN            NaN       NaN            NaN          NaN   \n",
              "25%              NaN            NaN       NaN            NaN          NaN   \n",
              "50%              NaN            NaN       NaN            NaN          NaN   \n",
              "75%              NaN            NaN       NaN            NaN          NaN   \n",
              "max              NaN            NaN       NaN            NaN          NaN   \n",
              "\n",
              "        ...       leave mental_health_consequence phys_health_consequence  \\\n",
              "count   ...        1251                      1251                    1251   \n",
              "unique  ...           5                         3                       3   \n",
              "top     ...  Don't know                        No                      No   \n",
              "freq    ...         561                       487                     920   \n",
              "mean    ...         NaN                       NaN                     NaN   \n",
              "std     ...         NaN                       NaN                     NaN   \n",
              "min     ...         NaN                       NaN                     NaN   \n",
              "25%     ...         NaN                       NaN                     NaN   \n",
              "50%     ...         NaN                       NaN                     NaN   \n",
              "75%     ...         NaN                       NaN                     NaN   \n",
              "max     ...         NaN                       NaN                     NaN   \n",
              "\n",
              "           coworkers supervisor mental_health_interview phys_health_interview  \\\n",
              "count           1251       1251                    1251                  1251   \n",
              "unique             3          3                       3                     3   \n",
              "top     Some of them        Yes                      No                 Maybe   \n",
              "freq             771        512                    1003                   555   \n",
              "mean             NaN        NaN                     NaN                   NaN   \n",
              "std              NaN        NaN                     NaN                   NaN   \n",
              "min              NaN        NaN                     NaN                   NaN   \n",
              "25%              NaN        NaN                     NaN                   NaN   \n",
              "50%              NaN        NaN                     NaN                   NaN   \n",
              "75%              NaN        NaN                     NaN                   NaN   \n",
              "max              NaN        NaN                     NaN                   NaN   \n",
              "\n",
              "       mental_vs_physical obs_consequence                         comments  \n",
              "count                1251            1251                              161  \n",
              "unique                  3               2                              157  \n",
              "top            Don't know              No  * Small family business - YMMV.  \n",
              "freq                  574            1070                                5  \n",
              "mean                  NaN             NaN                              NaN  \n",
              "std                   NaN             NaN                              NaN  \n",
              "min                   NaN             NaN                              NaN  \n",
              "25%                   NaN             NaN                              NaN  \n",
              "50%                   NaN             NaN                              NaN  \n",
              "75%                   NaN             NaN                              NaN  \n",
              "max                   NaN             NaN                              NaN  \n",
              "\n",
              "[11 rows x 27 columns]"
            ],
            "text/html": [
              "\n",
              "  <div id=\"df-1e075733-657e-4560-81cb-50f76e35953a\">\n",
              "    <div class=\"colab-df-container\">\n",
              "      <div>\n",
              "<style scoped>\n",
              "    .dataframe tbody tr th:only-of-type {\n",
              "        vertical-align: middle;\n",
              "    }\n",
              "\n",
              "    .dataframe tbody tr th {\n",
              "        vertical-align: top;\n",
              "    }\n",
              "\n",
              "    .dataframe thead th {\n",
              "        text-align: right;\n",
              "    }\n",
              "</style>\n",
              "<table border=\"1\" class=\"dataframe\">\n",
              "  <thead>\n",
              "    <tr style=\"text-align: right;\">\n",
              "      <th></th>\n",
              "      <th>Timestamp</th>\n",
              "      <th>Age</th>\n",
              "      <th>Gender</th>\n",
              "      <th>Country</th>\n",
              "      <th>state</th>\n",
              "      <th>self_employed</th>\n",
              "      <th>family_history</th>\n",
              "      <th>treatment</th>\n",
              "      <th>work_interfere</th>\n",
              "      <th>no_employees</th>\n",
              "      <th>...</th>\n",
              "      <th>leave</th>\n",
              "      <th>mental_health_consequence</th>\n",
              "      <th>phys_health_consequence</th>\n",
              "      <th>coworkers</th>\n",
              "      <th>supervisor</th>\n",
              "      <th>mental_health_interview</th>\n",
              "      <th>phys_health_interview</th>\n",
              "      <th>mental_vs_physical</th>\n",
              "      <th>obs_consequence</th>\n",
              "      <th>comments</th>\n",
              "    </tr>\n",
              "  </thead>\n",
              "  <tbody>\n",
              "    <tr>\n",
              "      <th>count</th>\n",
              "      <td>1251</td>\n",
              "      <td>1251.000000</td>\n",
              "      <td>1251</td>\n",
              "      <td>1251</td>\n",
              "      <td>738</td>\n",
              "      <td>1233</td>\n",
              "      <td>1251</td>\n",
              "      <td>1251</td>\n",
              "      <td>989</td>\n",
              "      <td>1251</td>\n",
              "      <td>...</td>\n",
              "      <td>1251</td>\n",
              "      <td>1251</td>\n",
              "      <td>1251</td>\n",
              "      <td>1251</td>\n",
              "      <td>1251</td>\n",
              "      <td>1251</td>\n",
              "      <td>1251</td>\n",
              "      <td>1251</td>\n",
              "      <td>1251</td>\n",
              "      <td>161</td>\n",
              "    </tr>\n",
              "    <tr>\n",
              "      <th>unique</th>\n",
              "      <td>1239</td>\n",
              "      <td>NaN</td>\n",
              "      <td>3</td>\n",
              "      <td>46</td>\n",
              "      <td>45</td>\n",
              "      <td>2</td>\n",
              "      <td>2</td>\n",
              "      <td>2</td>\n",
              "      <td>4</td>\n",
              "      <td>6</td>\n",
              "      <td>...</td>\n",
              "      <td>5</td>\n",
              "      <td>3</td>\n",
              "      <td>3</td>\n",
              "      <td>3</td>\n",
              "      <td>3</td>\n",
              "      <td>3</td>\n",
              "      <td>3</td>\n",
              "      <td>3</td>\n",
              "      <td>2</td>\n",
              "      <td>157</td>\n",
              "    </tr>\n",
              "    <tr>\n",
              "      <th>top</th>\n",
              "      <td>2014-08-27 12:44:51</td>\n",
              "      <td>NaN</td>\n",
              "      <td>Male</td>\n",
              "      <td>United States</td>\n",
              "      <td>CA</td>\n",
              "      <td>No</td>\n",
              "      <td>No</td>\n",
              "      <td>Yes</td>\n",
              "      <td>Sometimes</td>\n",
              "      <td>6-25</td>\n",
              "      <td>...</td>\n",
              "      <td>Don't know</td>\n",
              "      <td>No</td>\n",
              "      <td>No</td>\n",
              "      <td>Some of them</td>\n",
              "      <td>Yes</td>\n",
              "      <td>No</td>\n",
              "      <td>Maybe</td>\n",
              "      <td>Don't know</td>\n",
              "      <td>No</td>\n",
              "      <td>* Small family business - YMMV.</td>\n",
              "    </tr>\n",
              "    <tr>\n",
              "      <th>freq</th>\n",
              "      <td>2</td>\n",
              "      <td>NaN</td>\n",
              "      <td>989</td>\n",
              "      <td>746</td>\n",
              "      <td>138</td>\n",
              "      <td>1091</td>\n",
              "      <td>762</td>\n",
              "      <td>632</td>\n",
              "      <td>464</td>\n",
              "      <td>289</td>\n",
              "      <td>...</td>\n",
              "      <td>561</td>\n",
              "      <td>487</td>\n",
              "      <td>920</td>\n",
              "      <td>771</td>\n",
              "      <td>512</td>\n",
              "      <td>1003</td>\n",
              "      <td>555</td>\n",
              "      <td>574</td>\n",
              "      <td>1070</td>\n",
              "      <td>5</td>\n",
              "    </tr>\n",
              "    <tr>\n",
              "      <th>mean</th>\n",
              "      <td>NaN</td>\n",
              "      <td>32.076739</td>\n",
              "      <td>NaN</td>\n",
              "      <td>NaN</td>\n",
              "      <td>NaN</td>\n",
              "      <td>NaN</td>\n",
              "      <td>NaN</td>\n",
              "      <td>NaN</td>\n",
              "      <td>NaN</td>\n",
              "      <td>NaN</td>\n",
              "      <td>...</td>\n",
              "      <td>NaN</td>\n",
              "      <td>NaN</td>\n",
              "      <td>NaN</td>\n",
              "      <td>NaN</td>\n",
              "      <td>NaN</td>\n",
              "      <td>NaN</td>\n",
              "      <td>NaN</td>\n",
              "      <td>NaN</td>\n",
              "      <td>NaN</td>\n",
              "      <td>NaN</td>\n",
              "    </tr>\n",
              "    <tr>\n",
              "      <th>std</th>\n",
              "      <td>NaN</td>\n",
              "      <td>7.288272</td>\n",
              "      <td>NaN</td>\n",
              "      <td>NaN</td>\n",
              "      <td>NaN</td>\n",
              "      <td>NaN</td>\n",
              "      <td>NaN</td>\n",
              "      <td>NaN</td>\n",
              "      <td>NaN</td>\n",
              "      <td>NaN</td>\n",
              "      <td>...</td>\n",
              "      <td>NaN</td>\n",
              "      <td>NaN</td>\n",
              "      <td>NaN</td>\n",
              "      <td>NaN</td>\n",
              "      <td>NaN</td>\n",
              "      <td>NaN</td>\n",
              "      <td>NaN</td>\n",
              "      <td>NaN</td>\n",
              "      <td>NaN</td>\n",
              "      <td>NaN</td>\n",
              "    </tr>\n",
              "    <tr>\n",
              "      <th>min</th>\n",
              "      <td>NaN</td>\n",
              "      <td>18.000000</td>\n",
              "      <td>NaN</td>\n",
              "      <td>NaN</td>\n",
              "      <td>NaN</td>\n",
              "      <td>NaN</td>\n",
              "      <td>NaN</td>\n",
              "      <td>NaN</td>\n",
              "      <td>NaN</td>\n",
              "      <td>NaN</td>\n",
              "      <td>...</td>\n",
              "      <td>NaN</td>\n",
              "      <td>NaN</td>\n",
              "      <td>NaN</td>\n",
              "      <td>NaN</td>\n",
              "      <td>NaN</td>\n",
              "      <td>NaN</td>\n",
              "      <td>NaN</td>\n",
              "      <td>NaN</td>\n",
              "      <td>NaN</td>\n",
              "      <td>NaN</td>\n",
              "    </tr>\n",
              "    <tr>\n",
              "      <th>25%</th>\n",
              "      <td>NaN</td>\n",
              "      <td>27.000000</td>\n",
              "      <td>NaN</td>\n",
              "      <td>NaN</td>\n",
              "      <td>NaN</td>\n",
              "      <td>NaN</td>\n",
              "      <td>NaN</td>\n",
              "      <td>NaN</td>\n",
              "      <td>NaN</td>\n",
              "      <td>NaN</td>\n",
              "      <td>...</td>\n",
              "      <td>NaN</td>\n",
              "      <td>NaN</td>\n",
              "      <td>NaN</td>\n",
              "      <td>NaN</td>\n",
              "      <td>NaN</td>\n",
              "      <td>NaN</td>\n",
              "      <td>NaN</td>\n",
              "      <td>NaN</td>\n",
              "      <td>NaN</td>\n",
              "      <td>NaN</td>\n",
              "    </tr>\n",
              "    <tr>\n",
              "      <th>50%</th>\n",
              "      <td>NaN</td>\n",
              "      <td>31.000000</td>\n",
              "      <td>NaN</td>\n",
              "      <td>NaN</td>\n",
              "      <td>NaN</td>\n",
              "      <td>NaN</td>\n",
              "      <td>NaN</td>\n",
              "      <td>NaN</td>\n",
              "      <td>NaN</td>\n",
              "      <td>NaN</td>\n",
              "      <td>...</td>\n",
              "      <td>NaN</td>\n",
              "      <td>NaN</td>\n",
              "      <td>NaN</td>\n",
              "      <td>NaN</td>\n",
              "      <td>NaN</td>\n",
              "      <td>NaN</td>\n",
              "      <td>NaN</td>\n",
              "      <td>NaN</td>\n",
              "      <td>NaN</td>\n",
              "      <td>NaN</td>\n",
              "    </tr>\n",
              "    <tr>\n",
              "      <th>75%</th>\n",
              "      <td>NaN</td>\n",
              "      <td>36.000000</td>\n",
              "      <td>NaN</td>\n",
              "      <td>NaN</td>\n",
              "      <td>NaN</td>\n",
              "      <td>NaN</td>\n",
              "      <td>NaN</td>\n",
              "      <td>NaN</td>\n",
              "      <td>NaN</td>\n",
              "      <td>NaN</td>\n",
              "      <td>...</td>\n",
              "      <td>NaN</td>\n",
              "      <td>NaN</td>\n",
              "      <td>NaN</td>\n",
              "      <td>NaN</td>\n",
              "      <td>NaN</td>\n",
              "      <td>NaN</td>\n",
              "      <td>NaN</td>\n",
              "      <td>NaN</td>\n",
              "      <td>NaN</td>\n",
              "      <td>NaN</td>\n",
              "    </tr>\n",
              "    <tr>\n",
              "      <th>max</th>\n",
              "      <td>NaN</td>\n",
              "      <td>72.000000</td>\n",
              "      <td>NaN</td>\n",
              "      <td>NaN</td>\n",
              "      <td>NaN</td>\n",
              "      <td>NaN</td>\n",
              "      <td>NaN</td>\n",
              "      <td>NaN</td>\n",
              "      <td>NaN</td>\n",
              "      <td>NaN</td>\n",
              "      <td>...</td>\n",
              "      <td>NaN</td>\n",
              "      <td>NaN</td>\n",
              "      <td>NaN</td>\n",
              "      <td>NaN</td>\n",
              "      <td>NaN</td>\n",
              "      <td>NaN</td>\n",
              "      <td>NaN</td>\n",
              "      <td>NaN</td>\n",
              "      <td>NaN</td>\n",
              "      <td>NaN</td>\n",
              "    </tr>\n",
              "  </tbody>\n",
              "</table>\n",
              "<p>11 rows × 27 columns</p>\n",
              "</div>\n",
              "      <button class=\"colab-df-convert\" onclick=\"convertToInteractive('df-1e075733-657e-4560-81cb-50f76e35953a')\"\n",
              "              title=\"Convert this dataframe to an interactive table.\"\n",
              "              style=\"display:none;\">\n",
              "        \n",
              "  <svg xmlns=\"http://www.w3.org/2000/svg\" height=\"24px\"viewBox=\"0 0 24 24\"\n",
              "       width=\"24px\">\n",
              "    <path d=\"M0 0h24v24H0V0z\" fill=\"none\"/>\n",
              "    <path d=\"M18.56 5.44l.94 2.06.94-2.06 2.06-.94-2.06-.94-.94-2.06-.94 2.06-2.06.94zm-11 1L8.5 8.5l.94-2.06 2.06-.94-2.06-.94L8.5 2.5l-.94 2.06-2.06.94zm10 10l.94 2.06.94-2.06 2.06-.94-2.06-.94-.94-2.06-.94 2.06-2.06.94z\"/><path d=\"M17.41 7.96l-1.37-1.37c-.4-.4-.92-.59-1.43-.59-.52 0-1.04.2-1.43.59L10.3 9.45l-7.72 7.72c-.78.78-.78 2.05 0 2.83L4 21.41c.39.39.9.59 1.41.59.51 0 1.02-.2 1.41-.59l7.78-7.78 2.81-2.81c.8-.78.8-2.07 0-2.86zM5.41 20L4 18.59l7.72-7.72 1.47 1.35L5.41 20z\"/>\n",
              "  </svg>\n",
              "      </button>\n",
              "      \n",
              "  <style>\n",
              "    .colab-df-container {\n",
              "      display:flex;\n",
              "      flex-wrap:wrap;\n",
              "      gap: 12px;\n",
              "    }\n",
              "\n",
              "    .colab-df-convert {\n",
              "      background-color: #E8F0FE;\n",
              "      border: none;\n",
              "      border-radius: 50%;\n",
              "      cursor: pointer;\n",
              "      display: none;\n",
              "      fill: #1967D2;\n",
              "      height: 32px;\n",
              "      padding: 0 0 0 0;\n",
              "      width: 32px;\n",
              "    }\n",
              "\n",
              "    .colab-df-convert:hover {\n",
              "      background-color: #E2EBFA;\n",
              "      box-shadow: 0px 1px 2px rgba(60, 64, 67, 0.3), 0px 1px 3px 1px rgba(60, 64, 67, 0.15);\n",
              "      fill: #174EA6;\n",
              "    }\n",
              "\n",
              "    [theme=dark] .colab-df-convert {\n",
              "      background-color: #3B4455;\n",
              "      fill: #D2E3FC;\n",
              "    }\n",
              "\n",
              "    [theme=dark] .colab-df-convert:hover {\n",
              "      background-color: #434B5C;\n",
              "      box-shadow: 0px 1px 3px 1px rgba(0, 0, 0, 0.15);\n",
              "      filter: drop-shadow(0px 1px 2px rgba(0, 0, 0, 0.3));\n",
              "      fill: #FFFFFF;\n",
              "    }\n",
              "  </style>\n",
              "\n",
              "      <script>\n",
              "        const buttonEl =\n",
              "          document.querySelector('#df-1e075733-657e-4560-81cb-50f76e35953a button.colab-df-convert');\n",
              "        buttonEl.style.display =\n",
              "          google.colab.kernel.accessAllowed ? 'block' : 'none';\n",
              "\n",
              "        async function convertToInteractive(key) {\n",
              "          const element = document.querySelector('#df-1e075733-657e-4560-81cb-50f76e35953a');\n",
              "          const dataTable =\n",
              "            await google.colab.kernel.invokeFunction('convertToInteractive',\n",
              "                                                     [key], {});\n",
              "          if (!dataTable) return;\n",
              "\n",
              "          const docLinkHtml = 'Like what you see? Visit the ' +\n",
              "            '<a target=\"_blank\" href=https://colab.research.google.com/notebooks/data_table.ipynb>data table notebook</a>'\n",
              "            + ' to learn more about interactive tables.';\n",
              "          element.innerHTML = '';\n",
              "          dataTable['output_type'] = 'display_data';\n",
              "          await google.colab.output.renderOutput(dataTable, element);\n",
              "          const docLink = document.createElement('div');\n",
              "          docLink.innerHTML = docLinkHtml;\n",
              "          element.appendChild(docLink);\n",
              "        }\n",
              "      </script>\n",
              "    </div>\n",
              "  </div>\n",
              "  "
            ]
          },
          "metadata": {},
          "execution_count": 26
        }
      ],
      "source": [
        "df.describe(include =\"all\")"
      ]
    },
    {
      "cell_type": "code",
      "execution_count": null,
      "id": "4ade06ff",
      "metadata": {
        "id": "4ade06ff",
        "colab": {
          "base_uri": "https://localhost:8080/",
          "height": 295
        },
        "outputId": "ca8cb107-eeb0-4dca-cdd5-4ff5efdf112d"
      },
      "outputs": [
        {
          "output_type": "display_data",
          "data": {
            "text/plain": [
              "<Figure size 720x288 with 1 Axes>"
            ],
            "image/png": "[encoded data removed]"
          },
          "metadata": {}
        }
      ],
      "source": [
        "#df.plt.hist(column = 'Age', bins= int(np.sqrt(len(df['Age']))))\n",
        "sns.set_style(\"darkgrid\")\n",
        "plt.figure(figsize=(10, 4))\n",
        "plt.hist(df['Age'], bins= int(np.sqrt(1275)))\n",
        "plt.xlabel(\"Age\")\n",
        "plt.ylabel(\"Frequency\")\n",
        "plt.title(\"Distribution of ages\")\n",
        "plt.show()"
      ]
    },
    {
      "cell_type": "code",
      "execution_count": null,
      "id": "43d7c9c2",
      "metadata": {
        "id": "43d7c9c2"
      },
      "outputs": [],
      "source": [
        "#df.set_index('benefits').plot(kind='bar', stacked=True, color=['green', 'red'])"
      ]
    },
    {
      "cell_type": "code",
      "execution_count": null,
      "id": "35c27097",
      "metadata": {
        "id": "35c27097",
        "colab": {
          "base_uri": "https://localhost:8080/",
          "height": 296
        },
        "outputId": "21d50371-284c-4f5a-ffd0-85e9feda6a00"
      },
      "outputs": [
        {
          "output_type": "execute_result",
          "data": {
            "text/plain": [
              "<matplotlib.axes._subplots.AxesSubplot at 0x7f161f6406d0>"
            ]
          },
          "metadata": {},
          "execution_count": 29
        },
        {
          "output_type": "display_data",
          "data": {
            "text/plain": [
              "<Figure size 432x288 with 1 Axes>"
            ],
            "image/png": "[encoded data removed]"
          },
          "metadata": {}
        }
      ],
      "source": [
        "sns.countplot(data=df, x='supervisor', hue='treatment')"
      ]
    },
    {
      "cell_type": "markdown",
      "id": "0bdb7bf1",
      "metadata": {
        "id": "0bdb7bf1"
      },
      "source": [
        "Making stacked bar plot"
      ]
    },
    {
      "cell_type": "code",
      "execution_count": null,
      "id": "34199acb",
      "metadata": {
        "id": "34199acb",
        "colab": {
          "base_uri": "https://localhost:8080/",
          "height": 326
        },
        "outputId": "05c70746-0226-4f0e-c6f2-c3cc658c5a39"
      },
      "outputs": [
        {
          "output_type": "stream",
          "name": "stderr",
          "text": [
            "/usr/local/lib/python3.7/dist-packages/ipykernel_launcher.py:5: SettingWithCopyWarning: \n",
            "A value is trying to be set on a copy of a slice from a DataFrame.\n",
            "Try using .loc[row_indexer,col_indexer] = value instead\n",
            "\n",
            "See the caveats in the documentation: https://pandas.pydata.org/pandas-docs/stable/user_guide/indexing.html#returning-a-view-versus-a-copy\n",
            "  \"\"\"\n"
          ]
        },
        {
          "output_type": "execute_result",
          "data": {
            "text/plain": [
              "   treatment  seek_help  coworkers  supervisor  care_options\n",
              "0          1          1          3           1             4\n",
              "1          2          4          2           2             2\n",
              "2          2          2          1           1             2\n",
              "3          1          2          3           2             1\n",
              "4          2          4          3           1             2"
            ],
            "text/html": [
              "\n",
              "  <div id=\"df-5fa73832-b86b-4808-b2d8-82727adb62d4\">\n",
              "    <div class=\"colab-df-container\">\n",
              "      <div>\n",
              "<style scoped>\n",
              "    .dataframe tbody tr th:only-of-type {\n",
              "        vertical-align: middle;\n",
              "    }\n",
              "\n",
              "    .dataframe tbody tr th {\n",
              "        vertical-align: top;\n",
              "    }\n",
              "\n",
              "    .dataframe thead th {\n",
              "        text-align: right;\n",
              "    }\n",
              "</style>\n",
              "<table border=\"1\" class=\"dataframe\">\n",
              "  <thead>\n",
              "    <tr style=\"text-align: right;\">\n",
              "      <th></th>\n",
              "      <th>treatment</th>\n",
              "      <th>seek_help</th>\n",
              "      <th>coworkers</th>\n",
              "      <th>supervisor</th>\n",
              "      <th>care_options</th>\n",
              "    </tr>\n",
              "  </thead>\n",
              "  <tbody>\n",
              "    <tr>\n",
              "      <th>0</th>\n",
              "      <td>1</td>\n",
              "      <td>1</td>\n",
              "      <td>3</td>\n",
              "      <td>1</td>\n",
              "      <td>4</td>\n",
              "    </tr>\n",
              "    <tr>\n",
              "      <th>1</th>\n",
              "      <td>2</td>\n",
              "      <td>4</td>\n",
              "      <td>2</td>\n",
              "      <td>2</td>\n",
              "      <td>2</td>\n",
              "    </tr>\n",
              "    <tr>\n",
              "      <th>2</th>\n",
              "      <td>2</td>\n",
              "      <td>2</td>\n",
              "      <td>1</td>\n",
              "      <td>1</td>\n",
              "      <td>2</td>\n",
              "    </tr>\n",
              "    <tr>\n",
              "      <th>3</th>\n",
              "      <td>1</td>\n",
              "      <td>2</td>\n",
              "      <td>3</td>\n",
              "      <td>2</td>\n",
              "      <td>1</td>\n",
              "    </tr>\n",
              "    <tr>\n",
              "      <th>4</th>\n",
              "      <td>2</td>\n",
              "      <td>4</td>\n",
              "      <td>3</td>\n",
              "      <td>1</td>\n",
              "      <td>2</td>\n",
              "    </tr>\n",
              "  </tbody>\n",
              "</table>\n",
              "</div>\n",
              "      <button class=\"colab-df-convert\" onclick=\"convertToInteractive('df-5fa73832-b86b-4808-b2d8-82727adb62d4')\"\n",
              "              title=\"Convert this dataframe to an interactive table.\"\n",
              "              style=\"display:none;\">\n",
              "        \n",
              "  <svg xmlns=\"http://www.w3.org/2000/svg\" height=\"24px\"viewBox=\"0 0 24 24\"\n",
              "       width=\"24px\">\n",
              "    <path d=\"M0 0h24v24H0V0z\" fill=\"none\"/>\n",
              "    <path d=\"M18.56 5.44l.94 2.06.94-2.06 2.06-.94-2.06-.94-.94-2.06-.94 2.06-2.06.94zm-11 1L8.5 8.5l.94-2.06 2.06-.94-2.06-.94L8.5 2.5l-.94 2.06-2.06.94zm10 10l.94 2.06.94-2.06 2.06-.94-2.06-.94-.94-2.06-.94 2.06-2.06.94z\"/><path d=\"M17.41 7.96l-1.37-1.37c-.4-.4-.92-.59-1.43-.59-.52 0-1.04.2-1.43.59L10.3 9.45l-7.72 7.72c-.78.78-.78 2.05 0 2.83L4 21.41c.39.39.9.59 1.41.59.51 0 1.02-.2 1.41-.59l7.78-7.78 2.81-2.81c.8-.78.8-2.07 0-2.86zM5.41 20L4 18.59l7.72-7.72 1.47 1.35L5.41 20z\"/>\n",
              "  </svg>\n",
              "      </button>\n",
              "      \n",
              "  <style>\n",
              "    .colab-df-container {\n",
              "      display:flex;\n",
              "      flex-wrap:wrap;\n",
              "      gap: 12px;\n",
              "    }\n",
              "\n",
              "    .colab-df-convert {\n",
              "      background-color: #E8F0FE;\n",
              "      border: none;\n",
              "      border-radius: 50%;\n",
              "      cursor: pointer;\n",
              "      display: none;\n",
              "      fill: #1967D2;\n",
              "      height: 32px;\n",
              "      padding: 0 0 0 0;\n",
              "      width: 32px;\n",
              "    }\n",
              "\n",
              "    .colab-df-convert:hover {\n",
              "      background-color: #E2EBFA;\n",
              "      box-shadow: 0px 1px 2px rgba(60, 64, 67, 0.3), 0px 1px 3px 1px rgba(60, 64, 67, 0.15);\n",
              "      fill: #174EA6;\n",
              "    }\n",
              "\n",
              "    [theme=dark] .colab-df-convert {\n",
              "      background-color: #3B4455;\n",
              "      fill: #D2E3FC;\n",
              "    }\n",
              "\n",
              "    [theme=dark] .colab-df-convert:hover {\n",
              "      background-color: #434B5C;\n",
              "      box-shadow: 0px 1px 3px 1px rgba(0, 0, 0, 0.15);\n",
              "      filter: drop-shadow(0px 1px 2px rgba(0, 0, 0, 0.3));\n",
              "      fill: #FFFFFF;\n",
              "    }\n",
              "  </style>\n",
              "\n",
              "      <script>\n",
              "        const buttonEl =\n",
              "          document.querySelector('#df-5fa73832-b86b-4808-b2d8-82727adb62d4 button.colab-df-convert');\n",
              "        buttonEl.style.display =\n",
              "          google.colab.kernel.accessAllowed ? 'block' : 'none';\n",
              "\n",
              "        async function convertToInteractive(key) {\n",
              "          const element = document.querySelector('#df-5fa73832-b86b-4808-b2d8-82727adb62d4');\n",
              "          const dataTable =\n",
              "            await google.colab.kernel.invokeFunction('convertToInteractive',\n",
              "                                                     [key], {});\n",
              "          if (!dataTable) return;\n",
              "\n",
              "          const docLinkHtml = 'Like what you see? Visit the ' +\n",
              "            '<a target=\"_blank\" href=https://colab.research.google.com/notebooks/data_table.ipynb>data table notebook</a>'\n",
              "            + ' to learn more about interactive tables.';\n",
              "          element.innerHTML = '';\n",
              "          dataTable['output_type'] = 'display_data';\n",
              "          await google.colab.output.renderOutput(dataTable, element);\n",
              "          const docLink = document.createElement('div');\n",
              "          docLink.innerHTML = docLinkHtml;\n",
              "          element.appendChild(docLink);\n",
              "        }\n",
              "      </script>\n",
              "    </div>\n",
              "  </div>\n",
              "  "
            ]
          },
          "metadata": {},
          "execution_count": 30
        }
      ],
      "source": [
        "data_chart = df[['treatment','seek_help', 'coworkers', 'supervisor', 'care_options' ]] \n",
        "data_encoding = {'Yes': 1, 'No': 2, 'Some of them': 3, \"Don't know\": 4, 'Not sure': 4} \n",
        "# dont know and not sure are treated the same\n",
        "for i in data_chart.columns: \n",
        "    data_chart[i] = data_chart[i].replace(data_encoding)\n",
        "    \n",
        "data_chart.head()"
      ]
    },
    {
      "cell_type": "code",
      "execution_count": null,
      "id": "91a938f9",
      "metadata": {
        "id": "91a938f9",
        "colab": {
          "base_uri": "https://localhost:8080/",
          "height": 204
        },
        "outputId": "4afe1046-ca88-4475-9fb6-b9010d28be42"
      },
      "outputs": [
        {
          "output_type": "execute_result",
          "data": {
            "text/plain": [
              "                      1          2          3          4\n",
              "treatment     50.519584  49.480416   0.000000   0.000000\n",
              "seek_help     19.744205  51.239009   0.000000  29.016787\n",
              "coworkers     17.745803  20.623501  61.630695   0.000000\n",
              "supervisor    40.927258  31.175060  27.897682   0.000000\n",
              "care_options  35.091926  39.888090   0.000000  25.019984"
            ],
            "text/html": [
              "\n",
              "  <div id=\"df-229f7908-0d13-47b0-9dc3-461450228168\">\n",
              "    <div class=\"colab-df-container\">\n",
              "      <div>\n",
              "<style scoped>\n",
              "    .dataframe tbody tr th:only-of-type {\n",
              "        vertical-align: middle;\n",
              "    }\n",
              "\n",
              "    .dataframe tbody tr th {\n",
              "        vertical-align: top;\n",
              "    }\n",
              "\n",
              "    .dataframe thead th {\n",
              "        text-align: right;\n",
              "    }\n",
              "</style>\n",
              "<table border=\"1\" class=\"dataframe\">\n",
              "  <thead>\n",
              "    <tr style=\"text-align: right;\">\n",
              "      <th></th>\n",
              "      <th>1</th>\n",
              "      <th>2</th>\n",
              "      <th>3</th>\n",
              "      <th>4</th>\n",
              "    </tr>\n",
              "  </thead>\n",
              "  <tbody>\n",
              "    <tr>\n",
              "      <th>treatment</th>\n",
              "      <td>50.519584</td>\n",
              "      <td>49.480416</td>\n",
              "      <td>0.000000</td>\n",
              "      <td>0.000000</td>\n",
              "    </tr>\n",
              "    <tr>\n",
              "      <th>seek_help</th>\n",
              "      <td>19.744205</td>\n",
              "      <td>51.239009</td>\n",
              "      <td>0.000000</td>\n",
              "      <td>29.016787</td>\n",
              "    </tr>\n",
              "    <tr>\n",
              "      <th>coworkers</th>\n",
              "      <td>17.745803</td>\n",
              "      <td>20.623501</td>\n",
              "      <td>61.630695</td>\n",
              "      <td>0.000000</td>\n",
              "    </tr>\n",
              "    <tr>\n",
              "      <th>supervisor</th>\n",
              "      <td>40.927258</td>\n",
              "      <td>31.175060</td>\n",
              "      <td>27.897682</td>\n",
              "      <td>0.000000</td>\n",
              "    </tr>\n",
              "    <tr>\n",
              "      <th>care_options</th>\n",
              "      <td>35.091926</td>\n",
              "      <td>39.888090</td>\n",
              "      <td>0.000000</td>\n",
              "      <td>25.019984</td>\n",
              "    </tr>\n",
              "  </tbody>\n",
              "</table>\n",
              "</div>\n",
              "      <button class=\"colab-df-convert\" onclick=\"convertToInteractive('df-229f7908-0d13-47b0-9dc3-461450228168')\"\n",
              "              title=\"Convert this dataframe to an interactive table.\"\n",
              "              style=\"display:none;\">\n",
              "        \n",
              "  <svg xmlns=\"http://www.w3.org/2000/svg\" height=\"24px\"viewBox=\"0 0 24 24\"\n",
              "       width=\"24px\">\n",
              "    <path d=\"M0 0h24v24H0V0z\" fill=\"none\"/>\n",
              "    <path d=\"M18.56 5.44l.94 2.06.94-2.06 2.06-.94-2.06-.94-.94-2.06-.94 2.06-2.06.94zm-11 1L8.5 8.5l.94-2.06 2.06-.94-2.06-.94L8.5 2.5l-.94 2.06-2.06.94zm10 10l.94 2.06.94-2.06 2.06-.94-2.06-.94-.94-2.06-.94 2.06-2.06.94z\"/><path d=\"M17.41 7.96l-1.37-1.37c-.4-.4-.92-.59-1.43-.59-.52 0-1.04.2-1.43.59L10.3 9.45l-7.72 7.72c-.78.78-.78 2.05 0 2.83L4 21.41c.39.39.9.59 1.41.59.51 0 1.02-.2 1.41-.59l7.78-7.78 2.81-2.81c.8-.78.8-2.07 0-2.86zM5.41 20L4 18.59l7.72-7.72 1.47 1.35L5.41 20z\"/>\n",
              "  </svg>\n",
              "      </button>\n",
              "      \n",
              "  <style>\n",
              "    .colab-df-container {\n",
              "      display:flex;\n",
              "      flex-wrap:wrap;\n",
              "      gap: 12px;\n",
              "    }\n",
              "\n",
              "    .colab-df-convert {\n",
              "      background-color: #E8F0FE;\n",
              "      border: none;\n",
              "      border-radius: 50%;\n",
              "      cursor: pointer;\n",
              "      display: none;\n",
              "      fill: #1967D2;\n",
              "      height: 32px;\n",
              "      padding: 0 0 0 0;\n",
              "      width: 32px;\n",
              "    }\n",
              "\n",
              "    .colab-df-convert:hover {\n",
              "      background-color: #E2EBFA;\n",
              "      box-shadow: 0px 1px 2px rgba(60, 64, 67, 0.3), 0px 1px 3px 1px rgba(60, 64, 67, 0.15);\n",
              "      fill: #174EA6;\n",
              "    }\n",
              "\n",
              "    [theme=dark] .colab-df-convert {\n",
              "      background-color: #3B4455;\n",
              "      fill: #D2E3FC;\n",
              "    }\n",
              "\n",
              "    [theme=dark] .colab-df-convert:hover {\n",
              "      background-color: #434B5C;\n",
              "      box-shadow: 0px 1px 3px 1px rgba(0, 0, 0, 0.15);\n",
              "      filter: drop-shadow(0px 1px 2px rgba(0, 0, 0, 0.3));\n",
              "      fill: #FFFFFF;\n",
              "    }\n",
              "  </style>\n",
              "\n",
              "      <script>\n",
              "        const buttonEl =\n",
              "          document.querySelector('#df-229f7908-0d13-47b0-9dc3-461450228168 button.colab-df-convert');\n",
              "        buttonEl.style.display =\n",
              "          google.colab.kernel.accessAllowed ? 'block' : 'none';\n",
              "\n",
              "        async function convertToInteractive(key) {\n",
              "          const element = document.querySelector('#df-229f7908-0d13-47b0-9dc3-461450228168');\n",
              "          const dataTable =\n",
              "            await google.colab.kernel.invokeFunction('convertToInteractive',\n",
              "                                                     [key], {});\n",
              "          if (!dataTable) return;\n",
              "\n",
              "          const docLinkHtml = 'Like what you see? Visit the ' +\n",
              "            '<a target=\"_blank\" href=https://colab.research.google.com/notebooks/data_table.ipynb>data table notebook</a>'\n",
              "            + ' to learn more about interactive tables.';\n",
              "          element.innerHTML = '';\n",
              "          dataTable['output_type'] = 'display_data';\n",
              "          await google.colab.output.renderOutput(dataTable, element);\n",
              "          const docLink = document.createElement('div');\n",
              "          docLink.innerHTML = docLinkHtml;\n",
              "          element.appendChild(docLink);\n",
              "        }\n",
              "      </script>\n",
              "    </div>\n",
              "  </div>\n",
              "  "
            ]
          },
          "metadata": {},
          "execution_count": 31
        }
      ],
      "source": [
        "frequencies = {}\n",
        "for i in data_chart.columns: \n",
        "    frequencies[i] = data_chart[i].value_counts()\n",
        "    \n",
        "plotdata = pd.DataFrame(frequencies)\n",
        "plotdata.fillna(0, inplace=True)\n",
        "\n",
        "plotdata = plotdata.transpose()\n",
        "plotdata_percent = plotdata.div(plotdata.sum(axis=1), axis = 0)*100\n",
        "plotdata.head()\n",
        "plotdata_percent.head()"
      ]
    },
    {
      "cell_type": "code",
      "source": [
        "series1 = df.loc[(df[\"treatment\"] == 'Yes')].Age\n",
        "series2 = df.loc[(df[\"treatment\"] == 'No')].Age\n",
        "series1 = series1[:619]\n",
        "print(series1)\n",
        "print(series2)"
      ],
      "metadata": {
        "id": "0V9ew8mSP9xH",
        "colab": {
          "base_uri": "https://localhost:8080/"
        },
        "outputId": "73deb5ec-bbe9-4f06-c14c-9e82eebb74be"
      },
      "id": "0V9ew8mSP9xH",
      "execution_count": null,
      "outputs": [
        {
          "output_type": "stream",
          "name": "stdout",
          "text": [
            "0       37\n",
            "3       31\n",
            "6       35\n",
            "8       42\n",
            "10      31\n",
            "        ..\n",
            "1235    23\n",
            "1236    60\n",
            "1238    28\n",
            "1240    31\n",
            "1241    31\n",
            "Name: Age, Length: 619, dtype: int64\n",
            "1       44\n",
            "2       32\n",
            "4       31\n",
            "5       33\n",
            "7       39\n",
            "        ..\n",
            "1239    30\n",
            "1244    32\n",
            "1246    32\n",
            "1253    36\n",
            "1257    46\n",
            "Name: Age, Length: 619, dtype: int64\n"
          ]
        }
      ]
    },
    {
      "cell_type": "code",
      "execution_count": null,
      "id": "9f621dbc",
      "metadata": {
        "id": "9f621dbc",
        "colab": {
          "base_uri": "https://localhost:8080/"
        },
        "outputId": "0ad727bf-7474-4cc1-f29c-9422c2773180"
      },
      "outputs": [
        {
          "output_type": "stream",
          "name": "stdout",
          "text": [
            "p-value = 0.9724\n"
          ]
        }
      ],
      "source": [
        "# Compute mean of all forces: \n",
        "empirical_diff_means = np.mean(series1) - np.mean(series2)\n",
        "series_conc = np.concatenate((series1, series2))\n",
        "mean_force = np.median(series_conc)\n",
        "\n",
        "\n",
        "# Compute 10,000 bootstrap replicates from shifted arrays\n",
        "bs_replicates_a = dcst.draw_bs_pairs(series1, series2, dcst.diff_of_means, size = 10000)\n",
        "bs_replicates_b = dcst.draw_bs_pairs(series1, series2, dcst.diff_of_means, size = 10000)\n",
        "\n",
        "\n",
        "\n",
        "# Get replicates of difference of means: bs_replicates\n",
        "bs_replicates = bs_replicates_a - bs_replicates_b\n",
        "\n",
        "# Compute and print p-value: p\n",
        "p = np.sum(bs_replicates <= empirical_diff_means) / len(bs_replicates)\n",
        "print('p-value =', p)"
      ]
    },
    {
      "cell_type": "code",
      "source": [
        "plt.hist(bs_replicates_a, bins = 10)\n",
        "plt.title(\"Bootstrap Replicates of Candidates Seeking Treatment according to their Age\")\n",
        "plt.show()\n",
        "plt.hist(bs_replicates_b, bins = 10)\n",
        "plt.title(\"Bootstrap Replicates of Candidates Not Seeking Treatment according to their Age\")\n",
        "plt.show()\n",
        "\n"
      ],
      "metadata": {
        "colab": {
          "base_uri": "https://localhost:8080/",
          "height": 545
        },
        "id": "ri7iadY0qVV6",
        "outputId": "de227c00-1a3f-481c-b8b5-07354d5a294d"
      },
      "id": "ri7iadY0qVV6",
      "execution_count": null,
      "outputs": [
        {
          "output_type": "display_data",
          "data": {
            "text/plain": [
              "<Figure size 432x288 with 1 Axes>"
            ],
            "image/png": "[encoded data removed]"
          },
          "metadata": {}
        },
        {
          "output_type": "display_data",
          "data": {
            "text/plain": [
              "<Figure size 432x288 with 1 Axes>"
            ],
            "image/png": "[encoded data removed]"
          },
          "metadata": {}
        }
      ]
    },
    {
      "cell_type": "code",
      "execution_count": null,
      "id": "b4e5c450",
      "metadata": {
        "id": "b4e5c450",
        "colab": {
          "base_uri": "https://localhost:8080/",
          "height": 350
        },
        "outputId": "eb5a89f5-67ce-441c-c5d0-bd3b7fa32645"
      },
      "outputs": [
        {
          "output_type": "display_data",
          "data": {
            "text/plain": [
              "<Figure size 504x360 with 1 Axes>"
            ],
            "image/png": "[encoded data removed]"
          },
          "metadata": {}
        }
      ],
      "source": [
        "data_colors= {1: '#5ae258', 2: '#fa471b',3: '#1bbafa',  4: '#f0fa1b'} \n",
        "\n",
        "plotdata_percent.plot(kind='barh', stacked=True, color=data_colors, figsize=(7, 5))\n",
        "plt.legend(data_encoding, bbox_to_anchor = (1.05, 1))\n",
        "plt.title(\"Percentage distribution of responses for relevant variables\")\n",
        "plt.ylabel(\"Relevant variables\")\n",
        "plt.xlabel(\"Percent\")\n",
        "plt.show()"
      ]
    },
    {
      "cell_type": "code",
      "source": [
        "\n",
        "cat_cols = [\"benefits\", \"family_history\", \"work_interfere\", 'obs_consequence',]\n",
        "df_encoded = pd.get_dummies(df[cat_cols])\n",
        "#df_encoded = df.copy()\n",
        "#df_encoded = df_encoded[cat_cols]\n",
        "df_encoded = df_encoded.dropna()\n",
        "\n",
        "data_chart = df[['treatment']] \n",
        "data_encoding = {'Yes': 1, 'No': 2, 'Some of them': 3, \"Don't know\": 4, 'Not sure': 4} \n",
        "# dont know and not sure are treated the same\n",
        "for i in data_chart.columns: \n",
        "    data_chart[i] = data_chart[i].replace(data_encoding)\n",
        "    \n",
        "df_encoded['treatment'] = data_chart\n",
        "\n",
        "X = df_encoded\n",
        "y = df_encoded['treatment']\n",
        "\n",
        "\n",
        "X_train, X_test, y_train, y_test = train_test_split(X, y, test_size=0.30, random_state=42)\n",
        "neigh = KNeighborsClassifier(n_neighbors=5)\n",
        "\n",
        "\n",
        "neigh.fit(X_train, y_train)\n",
        "\n",
        "y_pred = neigh.predict(X_test) \n",
        "\n",
        "testMetrics = {}\n",
        "\n",
        "testMetrics['accuracy'] = accuracy_score(y_test, y_pred)\n",
        "print(testMetrics['accuracy'])\n",
        "\n",
        "#AUC test \n",
        "fpr, tpr, thresholds = metrics.roc_curve(y_test, y_pred, pos_label=2)\n",
        "testMetrics['auc score'] = metrics.auc(fpr, tpr)\n",
        "\n",
        "lists = sorted(testMetrics.items()) # sorted by key, return a list of tuples\n",
        "\n",
        "x, y = zip(*lists) # unpack a list of pairs into two tuples\n",
        "\n",
        "plt.bar(x, y)\n",
        "plt.title('Accuracy Score vs. AUC Score')\n",
        "plt.ylabel('Accuracy')\n",
        "plt.show()"
      ],
      "metadata": {
        "id": "_wNdLHeE9RHt",
        "colab": {
          "base_uri": "https://localhost:8080/",
          "height": 403
        },
        "outputId": "b51fb768-07f3-4986-a8c6-6cedfc6c7f78"
      },
      "id": "_wNdLHeE9RHt",
      "execution_count": null,
      "outputs": [
        {
          "output_type": "stream",
          "name": "stderr",
          "text": [
            "/usr/local/lib/python3.7/dist-packages/ipykernel_launcher.py:12: SettingWithCopyWarning: \n",
            "A value is trying to be set on a copy of a slice from a DataFrame.\n",
            "Try using .loc[row_indexer,col_indexer] = value instead\n",
            "\n",
            "See the caveats in the documentation: https://pandas.pydata.org/pandas-docs/stable/user_guide/indexing.html#returning-a-view-versus-a-copy\n",
            "  if sys.path[0] == '':\n"
          ]
        },
        {
          "output_type": "stream",
          "name": "stdout",
          "text": [
            "0.9707446808510638\n"
          ]
        },
        {
          "output_type": "display_data",
          "data": {
            "text/plain": [
              "<Figure size 432x288 with 1 Axes>"
            ],
            "image/png": "[encoded data removed]"
          },
          "metadata": {}
        }
      ]
    },
    {
      "cell_type": "code",
      "source": [
        "neighbors = [i for i in range(1, 11)]\n",
        "\n",
        "scores = []\n",
        "\n",
        "for neighbor in neighbors:\n",
        "  neigh = KNeighborsClassifier(n_neighbors=neighbor)\n",
        "  neigh.fit(X_train, y_train)\n",
        "  y_pred = neigh.predict(X_test) \n",
        "  scores.append(accuracy_score(y_test, y_pred))\n",
        "\n",
        "plt.plot(scores)\n",
        "plt.title(\"Accuracy Score for Different Numbers of Neighbors\")\n",
        "plt.xlabel('Neighbors')\n",
        "plt.ylabel('Accuracy')"
      ],
      "metadata": {
        "colab": {
          "base_uri": "https://localhost:8080/",
          "height": 312
        },
        "id": "kORTLt3blN5A",
        "outputId": "5e5b67db-76d8-469d-ff12-3f1418489358"
      },
      "id": "kORTLt3blN5A",
      "execution_count": null,
      "outputs": [
        {
          "output_type": "execute_result",
          "data": {
            "text/plain": [
              "Text(0, 0.5, 'Accuracy')"
            ]
          },
          "metadata": {},
          "execution_count": 37
        },
        {
          "output_type": "display_data",
          "data": {
            "text/plain": [
              "<Figure size 432x288 with 1 Axes>"
            ],
            "image/png": "[encoded data removed]"
          },
          "metadata": {}
        }
      ]
    },
    {
      "cell_type": "code",
      "source": [
        ""
      ],
      "metadata": {
        "id": "xsuPRWczf-1l"
      },
      "id": "xsuPRWczf-1l",
      "execution_count": null,
      "outputs": []
    },
    {
      "cell_type": "code",
      "source": [
        "\n",
        "cat_cols = [\"benefits\", \"family_history\", \"no_employees\", \"work_interfere\" , \"remote_work\", \"tech_company\",'supervisor', 'obs_consequence']"
      ],
      "metadata": {
        "id": "QGQTh0mggAD-"
      },
      "id": "QGQTh0mggAD-",
      "execution_count": null,
      "outputs": []
    },
    {
      "cell_type": "code",
      "source": [
        "pd.get_dummies(df[cat_cols])\n",
        "\n"
      ],
      "metadata": {
        "colab": {
          "base_uri": "https://localhost:8080/",
          "height": 500
        },
        "id": "CUtIgenTicP5",
        "outputId": "8d579799-5705-44a5-89fd-fe01723172a3"
      },
      "id": "CUtIgenTicP5",
      "execution_count": null,
      "outputs": [
        {
          "output_type": "execute_result",
          "data": {
            "text/plain": [
              "      benefits_Don't know  benefits_No  benefits_Yes  family_history_No  \\\n",
              "0                       0            0             1                  1   \n",
              "1                       1            0             0                  1   \n",
              "2                       0            1             0                  1   \n",
              "3                       0            1             0                  0   \n",
              "4                       0            0             1                  1   \n",
              "...                   ...          ...           ...                ...   \n",
              "1254                    0            1             0                  1   \n",
              "1255                    0            0             1                  0   \n",
              "1256                    0            0             1                  0   \n",
              "1257                    0            1             0                  1   \n",
              "1258                    0            0             1                  0   \n",
              "\n",
              "      family_history_Yes  no_employees_1-5  no_employees_100-500  \\\n",
              "0                      0                 0                     0   \n",
              "1                      0                 0                     0   \n",
              "2                      0                 0                     0   \n",
              "3                      1                 0                     0   \n",
              "4                      0                 0                     1   \n",
              "...                  ...               ...                   ...   \n",
              "1254                   0                 0                     0   \n",
              "1255                   1                 0                     0   \n",
              "1256                   1                 0                     0   \n",
              "1257                   0                 0                     1   \n",
              "1258                   1                 0                     0   \n",
              "\n",
              "      no_employees_26-100  no_employees_500-1000  no_employees_6-25  ...  \\\n",
              "0                       0                      0                  1  ...   \n",
              "1                       0                      0                  0  ...   \n",
              "2                       0                      0                  1  ...   \n",
              "3                       1                      0                  0  ...   \n",
              "4                       0                      0                  0  ...   \n",
              "...                   ...                    ...                ...  ...   \n",
              "1254                    1                      0                  0  ...   \n",
              "1255                    1                      0                  0  ...   \n",
              "1256                    0                      0                  0  ...   \n",
              "1257                    0                      0                  0  ...   \n",
              "1258                    1                      0                  0  ...   \n",
              "\n",
              "      work_interfere_Sometimes  remote_work_No  remote_work_Yes  \\\n",
              "0                            0               1                0   \n",
              "1                            0               1                0   \n",
              "2                            0               1                0   \n",
              "3                            0               1                0   \n",
              "4                            0               0                1   \n",
              "...                        ...             ...              ...   \n",
              "1254                         0               1                0   \n",
              "1255                         0               0                1   \n",
              "1256                         1               1                0   \n",
              "1257                         0               0                1   \n",
              "1258                         1               1                0   \n",
              "\n",
              "      tech_company_No  tech_company_Yes  supervisor_No  \\\n",
              "0                   0                 1              0   \n",
              "1                   1                 0              1   \n",
              "2                   0                 1              0   \n",
              "3                   0                 1              1   \n",
              "4                   0                 1              0   \n",
              "...               ...               ...            ...   \n",
              "1254                0                 1              0   \n",
              "1255                0                 1              0   \n",
              "1256                0                 1              1   \n",
              "1257                0                 1              1   \n",
              "1258                1                 0              1   \n",
              "\n",
              "      supervisor_Some of them  supervisor_Yes  obs_consequence_No  \\\n",
              "0                           0               1                   1   \n",
              "1                           0               0                   1   \n",
              "2                           0               1                   1   \n",
              "3                           0               0                   0   \n",
              "4                           0               1                   1   \n",
              "...                       ...             ...                 ...   \n",
              "1254                        1               0                   1   \n",
              "1255                        0               1                   1   \n",
              "1256                        0               0                   1   \n",
              "1257                        0               0                   1   \n",
              "1258                        0               0                   1   \n",
              "\n",
              "      obs_consequence_Yes  \n",
              "0                       0  \n",
              "1                       0  \n",
              "2                       0  \n",
              "3                       1  \n",
              "4                       0  \n",
              "...                   ...  \n",
              "1254                    0  \n",
              "1255                    0  \n",
              "1256                    0  \n",
              "1257                    0  \n",
              "1258                    0  \n",
              "\n",
              "[1251 rows x 24 columns]"
            ],
            "text/html": [
              "\n",
              "  <div id=\"df-80fea4dc-3738-4edb-9f37-22046942e3b6\">\n",
              "    <div class=\"colab-df-container\">\n",
              "      <div>\n",
              "<style scoped>\n",
              "    .dataframe tbody tr th:only-of-type {\n",
              "        vertical-align: middle;\n",
              "    }\n",
              "\n",
              "    .dataframe tbody tr th {\n",
              "        vertical-align: top;\n",
              "    }\n",
              "\n",
              "    .dataframe thead th {\n",
              "        text-align: right;\n",
              "    }\n",
              "</style>\n",
              "<table border=\"1\" class=\"dataframe\">\n",
              "  <thead>\n",
              "    <tr style=\"text-align: right;\">\n",
              "      <th></th>\n",
              "      <th>benefits_Don't know</th>\n",
              "      <th>benefits_No</th>\n",
              "      <th>benefits_Yes</th>\n",
              "      <th>family_history_No</th>\n",
              "      <th>family_history_Yes</th>\n",
              "      <th>no_employees_1-5</th>\n",
              "      <th>no_employees_100-500</th>\n",
              "      <th>no_employees_26-100</th>\n",
              "      <th>no_employees_500-1000</th>\n",
              "      <th>no_employees_6-25</th>\n",
              "      <th>...</th>\n",
              "      <th>work_interfere_Sometimes</th>\n",
              "      <th>remote_work_No</th>\n",
              "      <th>remote_work_Yes</th>\n",
              "      <th>tech_company_No</th>\n",
              "      <th>tech_company_Yes</th>\n",
              "      <th>supervisor_No</th>\n",
              "      <th>supervisor_Some of them</th>\n",
              "      <th>supervisor_Yes</th>\n",
              "      <th>obs_consequence_No</th>\n",
              "      <th>obs_consequence_Yes</th>\n",
              "    </tr>\n",
              "  </thead>\n",
              "  <tbody>\n",
              "    <tr>\n",
              "      <th>0</th>\n",
              "      <td>0</td>\n",
              "      <td>0</td>\n",
              "      <td>1</td>\n",
              "      <td>1</td>\n",
              "      <td>0</td>\n",
              "      <td>0</td>\n",
              "      <td>0</td>\n",
              "      <td>0</td>\n",
              "      <td>0</td>\n",
              "      <td>1</td>\n",
              "      <td>...</td>\n",
              "      <td>0</td>\n",
              "      <td>1</td>\n",
              "      <td>0</td>\n",
              "      <td>0</td>\n",
              "      <td>1</td>\n",
              "      <td>0</td>\n",
              "      <td>0</td>\n",
              "      <td>1</td>\n",
              "      <td>1</td>\n",
              "      <td>0</td>\n",
              "    </tr>\n",
              "    <tr>\n",
              "      <th>1</th>\n",
              "      <td>1</td>\n",
              "      <td>0</td>\n",
              "      <td>0</td>\n",
              "      <td>1</td>\n",
              "      <td>0</td>\n",
              "      <td>0</td>\n",
              "      <td>0</td>\n",
              "      <td>0</td>\n",
              "      <td>0</td>\n",
              "      <td>0</td>\n",
              "      <td>...</td>\n",
              "      <td>0</td>\n",
              "      <td>1</td>\n",
              "      <td>0</td>\n",
              "      <td>1</td>\n",
              "      <td>0</td>\n",
              "      <td>1</td>\n",
              "      <td>0</td>\n",
              "      <td>0</td>\n",
              "      <td>1</td>\n",
              "      <td>0</td>\n",
              "    </tr>\n",
              "    <tr>\n",
              "      <th>2</th>\n",
              "      <td>0</td>\n",
              "      <td>1</td>\n",
              "      <td>0</td>\n",
              "      <td>1</td>\n",
              "      <td>0</td>\n",
              "      <td>0</td>\n",
              "      <td>0</td>\n",
              "      <td>0</td>\n",
              "      <td>0</td>\n",
              "      <td>1</td>\n",
              "      <td>...</td>\n",
              "      <td>0</td>\n",
              "      <td>1</td>\n",
              "      <td>0</td>\n",
              "      <td>0</td>\n",
              "      <td>1</td>\n",
              "      <td>0</td>\n",
              "      <td>0</td>\n",
              "      <td>1</td>\n",
              "      <td>1</td>\n",
              "      <td>0</td>\n",
              "    </tr>\n",
              "    <tr>\n",
              "      <th>3</th>\n",
              "      <td>0</td>\n",
              "      <td>1</td>\n",
              "      <td>0</td>\n",
              "      <td>0</td>\n",
              "      <td>1</td>\n",
              "      <td>0</td>\n",
              "      <td>0</td>\n",
              "      <td>1</td>\n",
              "      <td>0</td>\n",
              "      <td>0</td>\n",
              "      <td>...</td>\n",
              "      <td>0</td>\n",
              "      <td>1</td>\n",
              "      <td>0</td>\n",
              "      <td>0</td>\n",
              "      <td>1</td>\n",
              "      <td>1</td>\n",
              "      <td>0</td>\n",
              "      <td>0</td>\n",
              "      <td>0</td>\n",
              "      <td>1</td>\n",
              "    </tr>\n",
              "    <tr>\n",
              "      <th>4</th>\n",
              "      <td>0</td>\n",
              "      <td>0</td>\n",
              "      <td>1</td>\n",
              "      <td>1</td>\n",
              "      <td>0</td>\n",
              "      <td>0</td>\n",
              "      <td>1</td>\n",
              "      <td>0</td>\n",
              "      <td>0</td>\n",
              "      <td>0</td>\n",
              "      <td>...</td>\n",
              "      <td>0</td>\n",
              "      <td>0</td>\n",
              "      <td>1</td>\n",
              "      <td>0</td>\n",
              "      <td>1</td>\n",
              "      <td>0</td>\n",
              "      <td>0</td>\n",
              "      <td>1</td>\n",
              "      <td>1</td>\n",
              "      <td>0</td>\n",
              "    </tr>\n",
              "    <tr>\n",
              "      <th>...</th>\n",
              "      <td>...</td>\n",
              "      <td>...</td>\n",
              "      <td>...</td>\n",
              "      <td>...</td>\n",
              "      <td>...</td>\n",
              "      <td>...</td>\n",
              "      <td>...</td>\n",
              "      <td>...</td>\n",
              "      <td>...</td>\n",
              "      <td>...</td>\n",
              "      <td>...</td>\n",
              "      <td>...</td>\n",
              "      <td>...</td>\n",
              "      <td>...</td>\n",
              "      <td>...</td>\n",
              "      <td>...</td>\n",
              "      <td>...</td>\n",
              "      <td>...</td>\n",
              "      <td>...</td>\n",
              "      <td>...</td>\n",
              "      <td>...</td>\n",
              "    </tr>\n",
              "    <tr>\n",
              "      <th>1254</th>\n",
              "      <td>0</td>\n",
              "      <td>1</td>\n",
              "      <td>0</td>\n",
              "      <td>1</td>\n",
              "      <td>0</td>\n",
              "      <td>0</td>\n",
              "      <td>0</td>\n",
              "      <td>1</td>\n",
              "      <td>0</td>\n",
              "      <td>0</td>\n",
              "      <td>...</td>\n",
              "      <td>0</td>\n",
              "      <td>1</td>\n",
              "      <td>0</td>\n",
              "      <td>0</td>\n",
              "      <td>1</td>\n",
              "      <td>0</td>\n",
              "      <td>1</td>\n",
              "      <td>0</td>\n",
              "      <td>1</td>\n",
              "      <td>0</td>\n",
              "    </tr>\n",
              "    <tr>\n",
              "      <th>1255</th>\n",
              "      <td>0</td>\n",
              "      <td>0</td>\n",
              "      <td>1</td>\n",
              "      <td>0</td>\n",
              "      <td>1</td>\n",
              "      <td>0</td>\n",
              "      <td>0</td>\n",
              "      <td>1</td>\n",
              "      <td>0</td>\n",
              "      <td>0</td>\n",
              "      <td>...</td>\n",
              "      <td>0</td>\n",
              "      <td>0</td>\n",
              "      <td>1</td>\n",
              "      <td>0</td>\n",
              "      <td>1</td>\n",
              "      <td>0</td>\n",
              "      <td>0</td>\n",
              "      <td>1</td>\n",
              "      <td>1</td>\n",
              "      <td>0</td>\n",
              "    </tr>\n",
              "    <tr>\n",
              "      <th>1256</th>\n",
              "      <td>0</td>\n",
              "      <td>0</td>\n",
              "      <td>1</td>\n",
              "      <td>0</td>\n",
              "      <td>1</td>\n",
              "      <td>0</td>\n",
              "      <td>0</td>\n",
              "      <td>0</td>\n",
              "      <td>0</td>\n",
              "      <td>0</td>\n",
              "      <td>...</td>\n",
              "      <td>1</td>\n",
              "      <td>1</td>\n",
              "      <td>0</td>\n",
              "      <td>0</td>\n",
              "      <td>1</td>\n",
              "      <td>1</td>\n",
              "      <td>0</td>\n",
              "      <td>0</td>\n",
              "      <td>1</td>\n",
              "      <td>0</td>\n",
              "    </tr>\n",
              "    <tr>\n",
              "      <th>1257</th>\n",
              "      <td>0</td>\n",
              "      <td>1</td>\n",
              "      <td>0</td>\n",
              "      <td>1</td>\n",
              "      <td>0</td>\n",
              "      <td>0</td>\n",
              "      <td>1</td>\n",
              "      <td>0</td>\n",
              "      <td>0</td>\n",
              "      <td>0</td>\n",
              "      <td>...</td>\n",
              "      <td>0</td>\n",
              "      <td>0</td>\n",
              "      <td>1</td>\n",
              "      <td>0</td>\n",
              "      <td>1</td>\n",
              "      <td>1</td>\n",
              "      <td>0</td>\n",
              "      <td>0</td>\n",
              "      <td>1</td>\n",
              "      <td>0</td>\n",
              "    </tr>\n",
              "    <tr>\n",
              "      <th>1258</th>\n",
              "      <td>0</td>\n",
              "      <td>0</td>\n",
              "      <td>1</td>\n",
              "      <td>0</td>\n",
              "      <td>1</td>\n",
              "      <td>0</td>\n",
              "      <td>0</td>\n",
              "      <td>1</td>\n",
              "      <td>0</td>\n",
              "      <td>0</td>\n",
              "      <td>...</td>\n",
              "      <td>1</td>\n",
              "      <td>1</td>\n",
              "      <td>0</td>\n",
              "      <td>1</td>\n",
              "      <td>0</td>\n",
              "      <td>1</td>\n",
              "      <td>0</td>\n",
              "      <td>0</td>\n",
              "      <td>1</td>\n",
              "      <td>0</td>\n",
              "    </tr>\n",
              "  </tbody>\n",
              "</table>\n",
              "<p>1251 rows × 24 columns</p>\n",
              "</div>\n",
              "      <button class=\"colab-df-convert\" onclick=\"convertToInteractive('df-80fea4dc-3738-4edb-9f37-22046942e3b6')\"\n",
              "              title=\"Convert this dataframe to an interactive table.\"\n",
              "              style=\"display:none;\">\n",
              "        \n",
              "  <svg xmlns=\"http://www.w3.org/2000/svg\" height=\"24px\"viewBox=\"0 0 24 24\"\n",
              "       width=\"24px\">\n",
              "    <path d=\"M0 0h24v24H0V0z\" fill=\"none\"/>\n",
              "    <path d=\"M18.56 5.44l.94 2.06.94-2.06 2.06-.94-2.06-.94-.94-2.06-.94 2.06-2.06.94zm-11 1L8.5 8.5l.94-2.06 2.06-.94-2.06-.94L8.5 2.5l-.94 2.06-2.06.94zm10 10l.94 2.06.94-2.06 2.06-.94-2.06-.94-.94-2.06-.94 2.06-2.06.94z\"/><path d=\"M17.41 7.96l-1.37-1.37c-.4-.4-.92-.59-1.43-.59-.52 0-1.04.2-1.43.59L10.3 9.45l-7.72 7.72c-.78.78-.78 2.05 0 2.83L4 21.41c.39.39.9.59 1.41.59.51 0 1.02-.2 1.41-.59l7.78-7.78 2.81-2.81c.8-.78.8-2.07 0-2.86zM5.41 20L4 18.59l7.72-7.72 1.47 1.35L5.41 20z\"/>\n",
              "  </svg>\n",
              "      </button>\n",
              "      \n",
              "  <style>\n",
              "    .colab-df-container {\n",
              "      display:flex;\n",
              "      flex-wrap:wrap;\n",
              "      gap: 12px;\n",
              "    }\n",
              "\n",
              "    .colab-df-convert {\n",
              "      background-color: #E8F0FE;\n",
              "      border: none;\n",
              "      border-radius: 50%;\n",
              "      cursor: pointer;\n",
              "      display: none;\n",
              "      fill: #1967D2;\n",
              "      height: 32px;\n",
              "      padding: 0 0 0 0;\n",
              "      width: 32px;\n",
              "    }\n",
              "\n",
              "    .colab-df-convert:hover {\n",
              "      background-color: #E2EBFA;\n",
              "      box-shadow: 0px 1px 2px rgba(60, 64, 67, 0.3), 0px 1px 3px 1px rgba(60, 64, 67, 0.15);\n",
              "      fill: #174EA6;\n",
              "    }\n",
              "\n",
              "    [theme=dark] .colab-df-convert {\n",
              "      background-color: #3B4455;\n",
              "      fill: #D2E3FC;\n",
              "    }\n",
              "\n",
              "    [theme=dark] .colab-df-convert:hover {\n",
              "      background-color: #434B5C;\n",
              "      box-shadow: 0px 1px 3px 1px rgba(0, 0, 0, 0.15);\n",
              "      filter: drop-shadow(0px 1px 2px rgba(0, 0, 0, 0.3));\n",
              "      fill: #FFFFFF;\n",
              "    }\n",
              "  </style>\n",
              "\n",
              "      <script>\n",
              "        const buttonEl =\n",
              "          document.querySelector('#df-80fea4dc-3738-4edb-9f37-22046942e3b6 button.colab-df-convert');\n",
              "        buttonEl.style.display =\n",
              "          google.colab.kernel.accessAllowed ? 'block' : 'none';\n",
              "\n",
              "        async function convertToInteractive(key) {\n",
              "          const element = document.querySelector('#df-80fea4dc-3738-4edb-9f37-22046942e3b6');\n",
              "          const dataTable =\n",
              "            await google.colab.kernel.invokeFunction('convertToInteractive',\n",
              "                                                     [key], {});\n",
              "          if (!dataTable) return;\n",
              "\n",
              "          const docLinkHtml = 'Like what you see? Visit the ' +\n",
              "            '<a target=\"_blank\" href=https://colab.research.google.com/notebooks/data_table.ipynb>data table notebook</a>'\n",
              "            + ' to learn more about interactive tables.';\n",
              "          element.innerHTML = '';\n",
              "          dataTable['output_type'] = 'display_data';\n",
              "          await google.colab.output.renderOutput(dataTable, element);\n",
              "          const docLink = document.createElement('div');\n",
              "          docLink.innerHTML = docLinkHtml;\n",
              "          element.appendChild(docLink);\n",
              "        }\n",
              "      </script>\n",
              "    </div>\n",
              "  </div>\n",
              "  "
            ]
          },
          "metadata": {},
          "execution_count": 39
        }
      ]
    },
    {
      "cell_type": "code",
      "source": [
        "#initial data exploration\n",
        "sns.pairplot(data = df, kind = \"scatter\", diag_kind = 'kde')\n"
      ],
      "metadata": {
        "colab": {
          "base_uri": "https://localhost:8080/",
          "height": 214
        },
        "id": "HShl4ZI_gE6k",
        "outputId": "55c04c70-f64a-4ea9-f3ab-b5217bd8d8be"
      },
      "id": "HShl4ZI_gE6k",
      "execution_count": null,
      "outputs": [
        {
          "output_type": "execute_result",
          "data": {
            "text/plain": [
              "<seaborn.axisgrid.PairGrid at 0x7f161dc77210>"
            ]
          },
          "metadata": {},
          "execution_count": 45
        },
        {
          "output_type": "display_data",
          "data": {
            "text/plain": [
              "<Figure size 180x180 with 2 Axes>"
            ],
            "image/png": "[encoded data removed]"
          },
          "metadata": {}
        }
      ]
    },
    {
      "cell_type": "code",
      "source": [
        "#initial data exploration \n",
        "sns.set(style=\"darkgrid\")\n",
        "\n",
        "\n",
        "fig, axs = plt.subplots(2,2, figsize=(11, 11))\n",
        "\n",
        "sns.histplot(data=df, x=\"Age\", color=\"skyblue\", ax=axs[0, 0])\n",
        "sns.histplot(data=df, x=\"Gender\", color=\"olive\", ax=axs[0, 1])\n",
        "sns.histplot(data=df, x=\"self_employed\", color=\"gold\", ax=axs[1, 0])\n",
        "sns.histplot(data=df, x=\"family_history\", color=\"teal\", ax=axs[1, 1])\n",
        "\n",
        "plt.show()"
      ],
      "metadata": {
        "colab": {
          "base_uri": "https://localhost:8080/",
          "height": 668
        },
        "id": "kCCPLbyfgG8S",
        "outputId": "159b171d-332f-4516-92dd-26b927b5e207"
      },
      "id": "kCCPLbyfgG8S",
      "execution_count": null,
      "outputs": [
        {
          "output_type": "display_data",
          "data": {
            "text/plain": [
              "<Figure size 792x792 with 4 Axes>"
            ],
            "image/png": "[encoded data removed]"
          },
          "metadata": {}
        }
      ]
    },
    {
      "cell_type": "code",
      "source": [
        "sns.set(style=\"darkgrid\")\n",
        "\n",
        "\n",
        "fig, axs = plt.subplots(2,2, figsize=(10, 10))\n",
        "\n",
        "\n",
        "sns.histplot(data=df, x=\"treatment\", color=\"skyblue\", ax=axs[0, 0])\n",
        "sns.histplot(data=df, x=\"work_interfere\", color=\"olive\", ax=axs[0, 1])\n",
        "sns.histplot(data=df, x=\"no_employees\", color=\"gold\", ax=axs[1, 0])\n",
        "sns.histplot(data=df, x=\"remote_work\", color=\"teal\", ax=axs[1, 1])\n",
        "\n",
        "\n"
      ],
      "metadata": {
        "colab": {
          "base_uri": "https://localhost:8080/",
          "height": 628
        },
        "id": "0Fp_XpbNyt_l",
        "outputId": "eb1f46a1-a8e5-45b5-be1a-a69aeb209a3a"
      },
      "id": "0Fp_XpbNyt_l",
      "execution_count": null,
      "outputs": [
        {
          "output_type": "execute_result",
          "data": {
            "text/plain": [
              "<matplotlib.axes._subplots.AxesSubplot at 0x7f16186bd050>"
            ]
          },
          "metadata": {},
          "execution_count": 72
        },
        {
          "output_type": "display_data",
          "data": {
            "text/plain": [
              "<Figure size 720x720 with 4 Axes>"
            ],
            "image/png": "[encoded data removed]"
          },
          "metadata": {}
        }
      ]
    },
    {
      "cell_type": "code",
      "source": [
        "sns.set(style=\"darkgrid\")\n",
        "\n",
        "\n",
        "fig, axs = plt.subplots(2,2, figsize=(12, 12))\n",
        "\n",
        "\n",
        "sns.histplot(data=df, x=\"tech_company\", color=\"skyblue\", ax=axs[0, 0])\n",
        "sns.histplot(data=df, x=\"benefits\", color=\"olive\", ax=axs[0, 1])\n",
        "sns.histplot(data=df, x=\"care_options\", color=\"gold\", ax=axs[1, 0])\n",
        "sns.histplot(data=df, x=\"wellness_program\", color=\"teal\", ax=axs[1, 1])"
      ],
      "metadata": {
        "colab": {
          "base_uri": "https://localhost:8080/",
          "height": 737
        },
        "id": "z8GDDqEc1li6",
        "outputId": "b35623c7-5057-4de7-97cf-566559124fac"
      },
      "id": "z8GDDqEc1li6",
      "execution_count": null,
      "outputs": [
        {
          "output_type": "execute_result",
          "data": {
            "text/plain": [
              "<matplotlib.axes._subplots.AxesSubplot at 0x7f161e19a790>"
            ]
          },
          "metadata": {},
          "execution_count": 62
        },
        {
          "output_type": "display_data",
          "data": {
            "text/plain": [
              "<Figure size 864x864 with 4 Axes>"
            ],
            "image/png": "[encoded data removed]"
          },
          "metadata": {}
        }
      ]
    },
    {
      "cell_type": "code",
      "source": [
        "sns.set(style=\"darkgrid\")\n",
        "\n",
        "\n",
        "fig, axs = plt.subplots(2,2, figsize=(20, 20))\n",
        "\n",
        "\n",
        "sns.histplot(data=df, x=\"seek_help\", color=\"skyblue\", ax=axs[0, 0])\n",
        "sns.histplot(data=df, x=\"anonymity\", color=\"olive\", ax=axs[0, 1])\n",
        "sns.histplot(data=df, x=\"leave\", color=\"gold\", ax=axs[1, 0])\n",
        "sns.histplot(data=df, x=\"coworkers\", color=\"teal\", ax=axs[1, 1])\n"
      ],
      "metadata": {
        "colab": {
          "base_uri": "https://localhost:8080/",
          "height": 998
        },
        "id": "7ZsUt6re2rF6",
        "outputId": "823906eb-4a25-4aa0-fe3c-1ad467edead7"
      },
      "id": "7ZsUt6re2rF6",
      "execution_count": null,
      "outputs": [
        {
          "output_type": "execute_result",
          "data": {
            "text/plain": [
              "<matplotlib.axes._subplots.AxesSubplot at 0x7f1618a67950>"
            ]
          },
          "metadata": {},
          "execution_count": 67
        },
        {
          "output_type": "display_data",
          "data": {
            "text/plain": [
              "<Figure size 1440x1440 with 4 Axes>"
            ],
            "image/png": "[encoded data removed]"
          },
          "metadata": {}
        }
      ]
    },
    {
      "cell_type": "code",
      "source": [
        "sns.set(style=\"darkgrid\")\n",
        "\n",
        "\n",
        "fig, axs = plt.subplots(2,2, figsize=(20, 20))\n",
        "\n",
        "\n",
        "sns.histplot(data=df, x=\"supervisor\", color=\"skyblue\", ax=axs[0, 0])\n",
        "sns.histplot(data=df, x=\"obs_consequence\", color=\"olive\", ax=axs[0, 1])\n"
      ],
      "metadata": {
        "colab": {
          "base_uri": "https://localhost:8080/",
          "height": 232
        },
        "id": "Uf72_qdD42am",
        "outputId": "f27c5081-42fc-4dbd-c8e8-fecee2bf189a"
      },
      "id": "Uf72_qdD42am",
      "execution_count": null,
      "outputs": [
        {
          "output_type": "error",
          "ename": "NameError",
          "evalue": "ignored",
          "traceback": [
            "\u001b[0;31m---------------------------------------------------------------------------\u001b[0m",
            "\u001b[0;31mNameError\u001b[0m                                 Traceback (most recent call last)",
            "\u001b[0;32m<ipython-input-2-e34f4a4aa3e4>\u001b[0m in \u001b[0;36m<module>\u001b[0;34m()\u001b[0m\n\u001b[0;32m----> 1\u001b[0;31m \u001b[0msns\u001b[0m\u001b[0;34m.\u001b[0m\u001b[0mset\u001b[0m\u001b[0;34m(\u001b[0m\u001b[0mstyle\u001b[0m\u001b[0;34m=\u001b[0m\u001b[0;34m\"darkgrid\"\u001b[0m\u001b[0;34m)\u001b[0m\u001b[0;34m\u001b[0m\u001b[0;34m\u001b[0m\u001b[0m\n\u001b[0m\u001b[1;32m      2\u001b[0m \u001b[0;34m\u001b[0m\u001b[0m\n\u001b[1;32m      3\u001b[0m \u001b[0;34m\u001b[0m\u001b[0m\n\u001b[1;32m      4\u001b[0m \u001b[0mfig\u001b[0m\u001b[0;34m,\u001b[0m \u001b[0maxs\u001b[0m \u001b[0;34m=\u001b[0m \u001b[0mplt\u001b[0m\u001b[0;34m.\u001b[0m\u001b[0msubplots\u001b[0m\u001b[0;34m(\u001b[0m\u001b[0;36m2\u001b[0m\u001b[0;34m,\u001b[0m\u001b[0;36m2\u001b[0m\u001b[0;34m,\u001b[0m \u001b[0mfigsize\u001b[0m\u001b[0;34m=\u001b[0m\u001b[0;34m(\u001b[0m\u001b[0;36m20\u001b[0m\u001b[0;34m,\u001b[0m \u001b[0;36m20\u001b[0m\u001b[0;34m)\u001b[0m\u001b[0;34m)\u001b[0m\u001b[0;34m\u001b[0m\u001b[0;34m\u001b[0m\u001b[0m\n\u001b[1;32m      5\u001b[0m \u001b[0;34m\u001b[0m\u001b[0m\n",
            "\u001b[0;31mNameError\u001b[0m: name 'sns' is not defined"
          ]
        }
      ]
    }
  ],
  "metadata": {
    "kernelspec": {
      "display_name": "introds",
      "language": "python",
      "name": "introds"
    },
    "language_info": {
      "codemirror_mode": {
        "name": "ipython",
        "version": 3
      },
      "file_extension": ".py",
      "mimetype": "text/x-python",
      "name": "python",
      "nbconvert_exporter": "python",
      "pygments_lexer": "ipython3",
      "version": "3.9.12"
    },
    "colab": {
      "name": "project.ipynb",
      "provenance": [],
      "collapsed_sections": [],
      "toc_visible": true,
      "include_colab_link": true
    }
  },
  "nbformat": 4,
  "nbformat_minor": 5
}