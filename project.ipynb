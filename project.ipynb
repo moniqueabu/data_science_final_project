{
 "cells": [
  {
   "cell_type": "markdown",
   "id": "b8688a40",
   "metadata": {},
   "source": [
    "Data Science Project\n",
    "https://www.kaggle.com/datasets/osmi/mental-health-in-tech-survey"
   ]
  },
  {
   "cell_type": "code",
   "execution_count": 10,
   "id": "a496825e",
   "metadata": {},
   "outputs": [],
   "source": [
    "import pandas as pd\n",
    "import numpy as np\n",
    "import matplotlib.pyplot as plt"
   ]
  },
  {
   "cell_type": "code",
   "execution_count": 39,
   "id": "b15005f0",
   "metadata": {},
   "outputs": [
    {
     "name": "stdout",
     "output_type": "stream",
     "text": [
      "             Timestamp  Age  Gender         Country state self_employed  \\\n",
      "0  2014-08-27 11:29:31   37  Female   United States    IL           NaN   \n",
      "1  2014-08-27 11:29:37   44       M   United States    IN           NaN   \n",
      "2  2014-08-27 11:29:44   32    Male          Canada   NaN           NaN   \n",
      "3  2014-08-27 11:29:46   31    Male  United Kingdom   NaN           NaN   \n",
      "4  2014-08-27 11:30:22   31    Male   United States    TX           NaN   \n",
      "\n",
      "  family_history treatment work_interfere    no_employees  ...  \\\n",
      "0             No       Yes          Often            6-25  ...   \n",
      "1             No        No         Rarely  More than 1000  ...   \n",
      "2             No        No         Rarely            6-25  ...   \n",
      "3            Yes       Yes          Often          26-100  ...   \n",
      "4             No        No          Never         100-500  ...   \n",
      "\n",
      "                leave mental_health_consequence phys_health_consequence  \\\n",
      "0       Somewhat easy                        No                      No   \n",
      "1          Don't know                     Maybe                      No   \n",
      "2  Somewhat difficult                        No                      No   \n",
      "3  Somewhat difficult                       Yes                     Yes   \n",
      "4          Don't know                        No                      No   \n",
      "\n",
      "      coworkers supervisor mental_health_interview phys_health_interview  \\\n",
      "0  Some of them        Yes                      No                 Maybe   \n",
      "1            No         No                      No                    No   \n",
      "2           Yes        Yes                     Yes                   Yes   \n",
      "3  Some of them         No                   Maybe                 Maybe   \n",
      "4  Some of them        Yes                     Yes                   Yes   \n",
      "\n",
      "  mental_vs_physical obs_consequence comments  \n",
      "0                Yes              No      NaN  \n",
      "1         Don't know              No      NaN  \n",
      "2                 No              No      NaN  \n",
      "3                 No             Yes      NaN  \n",
      "4         Don't know              No      NaN  \n",
      "\n",
      "[5 rows x 27 columns]\n"
     ]
    }
   ],
   "source": [
    "df = pd.read_csv(\"survey.csv\")\n",
    "print(df.head())"
   ]
  },
  {
   "cell_type": "code",
   "execution_count": 40,
   "id": "cc25f7c1",
   "metadata": {
    "scrolled": true
   },
   "outputs": [
    {
     "data": {
      "text/plain": [
       "Gender\n",
       "Male                                              615\n",
       "male                                              206\n",
       "Female                                            121\n",
       "M                                                 116\n",
       "female                                             62\n",
       "F                                                  38\n",
       "m                                                  34\n",
       "f                                                  15\n",
       "Make                                                4\n",
       "Male                                                3\n",
       "Woman                                               3\n",
       "Man                                                 2\n",
       "Cis Male                                            2\n",
       "Female                                              2\n",
       "Female (trans)                                      2\n",
       "A little about you                                  1\n",
       "femail                                              1\n",
       "cis-female/femme                                    1\n",
       "fluid                                               1\n",
       "male leaning androgynous                            1\n",
       "maile                                               1\n",
       "msle                                                1\n",
       "non-binary                                          1\n",
       "ostensibly male, unsure what that really means      1\n",
       "p                                                   1\n",
       "queer                                               1\n",
       "queer/she/they                                      1\n",
       "something kinda male?                               1\n",
       "cis male                                            1\n",
       "Malr                                                1\n",
       "Trans-female                                        1\n",
       "Genderqueer                                         1\n",
       "All                                                 1\n",
       "Androgyne                                           1\n",
       "Cis Female                                          1\n",
       "Cis Man                                             1\n",
       "Enby                                                1\n",
       "Femake                                              1\n",
       "Female (cis)                                        1\n",
       "Guy (-ish) ^_^                                      1\n",
       "Trans woman                                         1\n",
       "Mail                                                1\n",
       "Mal                                                 1\n",
       "Male (CIS)                                          1\n",
       "Male-ish                                            1\n",
       "Agender                                             1\n",
       "Nah                                                 1\n",
       "Neuter                                              1\n",
       "woman                                               1\n",
       "dtype: int64"
      ]
     },
     "execution_count": 40,
     "metadata": {},
     "output_type": "execute_result"
    }
   ],
   "source": [
    "df.value_counts(subset=\"Gender\")"
   ]
  },
  {
   "cell_type": "code",
   "execution_count": 42,
   "id": "c5ee37ab",
   "metadata": {},
   "outputs": [],
   "source": [
    "#Cleaning gender column\n",
    "female_names = {'Female ','f','female', 'F', 'Woman', 'Female', 'femail', 'cis-female/femme', 'Trans-female', 'Cis Female', 'Femake', 'Female (cis)', 'Trans woman','woman', \"Female (trans)\" }\n",
    "male_names = {'Male', 'Male ', 'male', 'M', 'm', 'Make', 'Male-ish', 'Man', 'Cis Male', 'maile', 'msle', 'ostensibly male, unsure what that really means', 'cis male', 'Malr', 'Male (CIS)', 'Mal', 'Mail', 'Guy (-ish) ^_^', 'Cis Man', 'something kinda male?'}\n",
    "non_names = {'Agender', 'All', 'Androgyne', 'Enby', 'Genderqueer', 'Nah', 'male leaning androgynous', 'fluid', 'Neuter', 'non-binary', 'queer', 'queer/she/they'}\n",
    "df.replace(to_replace = female_names, value = \"Female\", inplace=True)\n",
    "df.replace(to_replace = male_names, value = \"Male\", inplace=True)\n",
    "df.replace(to_replace = non_names, value = \"Gender non-conforming\", inplace=True)\n",
    "#print(df)"
   ]
  },
  {
   "cell_type": "code",
   "execution_count": 43,
   "id": "ed65c969",
   "metadata": {
    "scrolled": true
   },
   "outputs": [
    {
     "data": {
      "text/plain": [
       "Gender\n",
       "Male                     994\n",
       "Female                   251\n",
       "Gender non-conforming     12\n",
       "A little about you         1\n",
       "p                          1\n",
       "dtype: int64"
      ]
     },
     "execution_count": 43,
     "metadata": {},
     "output_type": "execute_result"
    }
   ],
   "source": [
    "df.value_counts(subset=\"Gender\")"
   ]
  },
  {
   "cell_type": "code",
   "execution_count": 52,
   "id": "369a3b7d",
   "metadata": {},
   "outputs": [],
   "source": [
    "#delete p and a little about you \n",
    "df.drop(df.loc[df[\"Gender\"] == \"p\"].index, inplace = True)\n",
    "df.drop(df.loc[df[\"Gender\"] == \"A little about you\"].index, inplace = True)"
   ]
  },
  {
   "cell_type": "code",
   "execution_count": 53,
   "id": "c9cb37bb",
   "metadata": {},
   "outputs": [
    {
     "data": {
      "text/plain": [
       "Gender\n",
       "Male                     994\n",
       "Female                   251\n",
       "Gender non-conforming     12\n",
       "dtype: int64"
      ]
     },
     "execution_count": 53,
     "metadata": {},
     "output_type": "execute_result"
    }
   ],
   "source": [
    "df.value_counts(subset=\"Gender\")"
   ]
  },
  {
   "cell_type": "code",
   "execution_count": 58,
   "id": "03227b1f",
   "metadata": {},
   "outputs": [
    {
     "data": {
      "text/plain": [
       "comments\n",
       "* Small family business - YMMV.                                                                                                                                                                                                                                                                                                                                    5\n",
       "Some of these should not be required.                                                                                                                                                                                                                                                                                                                              1\n",
       "My seniority at the company and rapport with the owners has helped me gain support for seeking help regarding my mental health as well as being able to take time off or work from home when an episode starts.However I don't feel that the company's stance on mental health is as clear as say something like vision or dental.  There's very much a stigma.    1\n",
       "My work is using my brain. I do it incredibly well.I make an effort to avoid diagnosis of anything mental health related because I am convinced it would only affect me negatively.                                                                                                                                                                                1\n",
       "Nice job on the text field for gender :-)                                                                                                                                                                                                                                                                                                                          1\n",
       "                                                                                                                                                                                                                                                                                                                                                                  ..\n",
       "I work at a large university with a track record of health and wellbeing support                                                                                                                                                                                                                                                                                   1\n",
       "I work for a university.                                                                                                                                                                                                                                                                                                                                           1\n",
       "I work for a very small firm that doesn't really have a dedicated H/R person. Also for the question:If you have a mental health condition do you feel that it interferes with your work?...I don't have a diagnosed mental health condition but I suspect I might have some slight depression issues. Definitely have Imposter Syndrome.                           1\n",
       "I work for an extremely supportive company and we are amazingly open about mental health issues. Employees often share their struggles with the whole team and receive a high level of support in return.                                                                                                                                                          1\n",
       "you rock for doing this!                                                                                                                                                                                                                                                                                                                                           1\n",
       "Length: 158, dtype: int64"
      ]
     },
     "execution_count": 58,
     "metadata": {},
     "output_type": "execute_result"
    }
   ],
   "source": [
    "df.value_counts(subset=\"comments\")"
   ]
  },
  {
   "cell_type": "code",
   "execution_count": null,
   "id": "0fe8c3ac",
   "metadata": {},
   "outputs": [],
   "source": []
  }
 ],
 "metadata": {
  "kernelspec": {
   "display_name": "introds",
   "language": "python",
   "name": "introds"
  },
  "language_info": {
   "codemirror_mode": {
    "name": "ipython",
    "version": 3
   },
   "file_extension": ".py",
   "mimetype": "text/x-python",
   "name": "python",
   "nbconvert_exporter": "python",
   "pygments_lexer": "ipython3",
   "version": "3.9.12"
  }
 },
 "nbformat": 4,
 "nbformat_minor": 5
}
