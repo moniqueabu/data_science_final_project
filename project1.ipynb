{
  "cells": [
    {
      "cell_type": "markdown",
      "metadata": {
        "id": "view-in-github",
        "colab_type": "text"
      },
      "source": [
        "<a href=\"https://colab.research.google.com/github/moniqueabu/data_science_final_project/blob/main/project1.ipynb\" target=\"_parent\"><img src=\"https://colab.research.google.com/assets/colab-badge.svg\" alt=\"Open In Colab\"/></a>"
      ]
    },
    {
      "cell_type": "markdown",
      "id": "b8688a40",
      "metadata": {
        "id": "b8688a40"
      },
      "source": [
        "Data Science Project\n",
        "https://www.kaggle.com/datasets/osmi/mental-health-in-tech-survey"
      ]
    },
    {
      "cell_type": "markdown",
      "source": [
        "# New Section"
      ],
      "metadata": {
        "id": "gD73nv3H0QIK"
      },
      "id": "gD73nv3H0QIK"
    },
    {
      "cell_type": "code",
      "source": [
        "!pip install dc_stat_think"
      ],
      "metadata": {
        "colab": {
          "base_uri": "https://localhost:8080/"
        },
        "id": "yGqWECklgDF0",
        "outputId": "0b3afa1d-ce40-45bd-f9c6-e685b985a4f1"
      },
      "id": "yGqWECklgDF0",
      "execution_count": 31,
      "outputs": [
        {
          "output_type": "stream",
          "name": "stdout",
          "text": [
            "Requirement already satisfied: dc_stat_think in /usr/local/lib/python3.7/dist-packages (1.1.1)\n"
          ]
        }
      ]
    },
    {
      "cell_type": "code",
      "execution_count": 149,
      "id": "a496825e",
      "metadata": {
        "id": "a496825e"
      },
      "outputs": [],
      "source": [
        "import pandas as pd\n",
        "import numpy as np\n",
        "import matplotlib.pyplot as plt\n",
        "import matplotlib.cm as cm \n",
        "import seaborn as sns\n",
        "from sklearn.neighbors import KNeighborsClassifier \n",
        "from sklearn.model_selection import train_test_split\n",
        "from sklearn.cluster import KMeans\n",
        "import dc_stat_think as  dcst \n",
        "import itertools\n",
        "from sklearn.preprocessing import OrdinalEncoder\n",
        "from sklearn.neighbors import KNeighborsClassifier\n",
        "from sklearn.model_selection import train_test_split\n",
        "from sklearn.metrics import accuracy_score\n",
        "from sklearn import metrics\n",
        "\n",
        "\n",
        "#hi "
      ]
    },
    {
      "cell_type": "code",
      "source": [
        "from google.colab import drive\n",
        "drive.mount('/content/drive')"
      ],
      "metadata": {
        "colab": {
          "base_uri": "https://localhost:8080/"
        },
        "id": "svL2Kbk_iKK3",
        "outputId": "45916bfc-e675-4e9b-ffc5-bbf0b4eaeb86"
      },
      "id": "svL2Kbk_iKK3",
      "execution_count": 34,
      "outputs": [
        {
          "output_type": "stream",
          "name": "stdout",
          "text": [
            "Mounted at /content/drive\n"
          ]
        }
      ]
    },
    {
      "cell_type": "code",
      "execution_count": 35,
      "id": "b15005f0",
      "metadata": {
        "id": "b15005f0"
      },
      "outputs": [],
      "source": [
        "df = pd.read_csv(\"/survey.csv\")"
      ]
    },
    {
      "cell_type": "code",
      "execution_count": null,
      "id": "cc25f7c1",
      "metadata": {
        "scrolled": true,
        "id": "cc25f7c1"
      },
      "outputs": [],
      "source": [
        "#df.value_counts(subset=\"Gender\")"
      ]
    },
    {
      "cell_type": "code",
      "execution_count": 36,
      "id": "c5ee37ab",
      "metadata": {
        "id": "c5ee37ab"
      },
      "outputs": [],
      "source": [
        "#Cleaning gender column\n",
        "female_names = {'Female ','f','female', 'F', 'Woman', 'Female', 'femail', 'cis-female/femme', 'Trans-female', 'Cis Female', 'Femake', 'Female (cis)', 'Trans woman','woman', \"Female (trans)\" }\n",
        "male_names = {'Male', 'Male ', 'male', 'M', 'm', 'Make', 'Male-ish', 'Man', 'Cis Male', 'maile', 'msle', 'ostensibly male, unsure what that really means', 'cis male', 'Malr', 'Male (CIS)', 'Mal', 'Mail', 'Guy (-ish) ^_^', 'Cis Man', 'something kinda male?'}\n",
        "non_names = {'Agender', 'All', 'Androgyne', 'Enby', 'Genderqueer', 'Nah', 'male leaning androgynous', 'fluid', 'Neuter', 'non-binary', 'queer', 'queer/she/they'}\n",
        "df.replace(to_replace = female_names, value = \"Female\", inplace=True)\n",
        "df.replace(to_replace = male_names, value = \"Male\", inplace=True)\n",
        "df.replace(to_replace = non_names, value = \"Gender non-conforming\", inplace=True)\n",
        "#print(df)"
      ]
    },
    {
      "cell_type": "code",
      "execution_count": 37,
      "id": "ed65c969",
      "metadata": {
        "scrolled": true,
        "id": "ed65c969",
        "colab": {
          "base_uri": "https://localhost:8080/"
        },
        "outputId": "a2692d51-fd3c-48f7-917e-ad2184a43c51"
      },
      "outputs": [
        {
          "output_type": "execute_result",
          "data": {
            "text/plain": [
              "Gender\n",
              "Male                     994\n",
              "Female                   251\n",
              "Gender non-conforming     12\n",
              "A little about you         1\n",
              "p                          1\n",
              "dtype: int64"
            ]
          },
          "metadata": {},
          "execution_count": 37
        }
      ],
      "source": [
        "df.value_counts(subset=\"Gender\")"
      ]
    },
    {
      "cell_type": "code",
      "execution_count": 38,
      "id": "369a3b7d",
      "metadata": {
        "id": "369a3b7d"
      },
      "outputs": [],
      "source": [
        "#delete p and a little about you \n",
        "df.drop(df.loc[df[\"Gender\"] == \"p\"].index, inplace = True)\n",
        "df.drop(df.loc[df[\"Gender\"] == \"A little about you\"].index, inplace = True)"
      ]
    },
    {
      "cell_type": "code",
      "execution_count": 41,
      "id": "c9cb37bb",
      "metadata": {
        "id": "c9cb37bb",
        "colab": {
          "base_uri": "https://localhost:8080/"
        },
        "outputId": "caef5e53-38a5-4f64-fab6-742d372e3116"
      },
      "outputs": [
        {
          "output_type": "execute_result",
          "data": {
            "text/plain": [
              "Gender\n",
              "Male                     994\n",
              "Female                   251\n",
              "Gender non-conforming     12\n",
              "dtype: int64"
            ]
          },
          "metadata": {},
          "execution_count": 41
        }
      ],
      "source": [
        "df.value_counts(subset=\"Gender\")"
      ]
    },
    {
      "cell_type": "code",
      "execution_count": 42,
      "id": "0fe8c3ac",
      "metadata": {
        "id": "0fe8c3ac",
        "colab": {
          "base_uri": "https://localhost:8080/"
        },
        "outputId": "e0ab8ed9-14fd-4f39-a7a8-acafe6a9e4be"
      },
      "outputs": [
        {
          "output_type": "execute_result",
          "data": {
            "text/plain": [
              "Age\n",
              "29    85\n",
              "32    82\n",
              "26    75\n",
              "27    71\n",
              "33    70\n",
              "28    68\n",
              "31    67\n",
              "34    65\n",
              "30    63\n",
              "25    61\n",
              "35    55\n",
              "23    51\n",
              "24    46\n",
              "37    43\n",
              "38    39\n",
              "36    37\n",
              "39    33\n",
              "40    33\n",
              "43    28\n",
              "22    21\n",
              "41    21\n",
              "42    20\n",
              "21    16\n",
              "45    12\n",
              "46    12\n",
              "44    11\n",
              "19     9\n",
              "18     7\n",
              "20     6\n",
              "48     6\n",
              "50     6\n",
              "51     5\n",
              "56     4\n",
              "49     4\n",
              "57     3\n",
              "55     3\n",
              "54     3\n",
              "47     2\n",
              "60     2\n",
              "53     1\n",
              "58     1\n",
              "61     1\n",
              "62     1\n",
              "65     1\n",
              "72     1\n",
              "dtype: int64"
            ]
          },
          "metadata": {},
          "execution_count": 42
        }
      ],
      "source": [
        "df.drop(df.loc[df[\"Age\"] > 100].index, inplace = True)\n",
        "df.drop(df.loc[df[\"Age\"] < 18].index, inplace = True)\n",
        "df.value_counts(subset=\"Age\")"
      ]
    },
    {
      "cell_type": "code",
      "execution_count": 43,
      "id": "03227b1f",
      "metadata": {
        "id": "03227b1f",
        "colab": {
          "base_uri": "https://localhost:8080/"
        },
        "outputId": "0a889b53-5509-484b-fe0f-57c58361490b"
      },
      "outputs": [
        {
          "output_type": "execute_result",
          "data": {
            "text/plain": [
              "treatment\n",
              "Yes    632\n",
              "No     619\n",
              "dtype: int64"
            ]
          },
          "metadata": {},
          "execution_count": 43
        }
      ],
      "source": [
        "df.value_counts(subset=\"treatment\")"
      ]
    },
    {
      "cell_type": "code",
      "execution_count": 44,
      "id": "1b448c7b",
      "metadata": {
        "id": "1b448c7b",
        "colab": {
          "base_uri": "https://localhost:8080/",
          "height": 534
        },
        "outputId": "b81f730a-d46f-408a-a912-ed9daec00dc0"
      },
      "outputs": [
        {
          "output_type": "execute_result",
          "data": {
            "text/plain": [
              "                  Timestamp          Age Gender        Country state  \\\n",
              "count                  1251  1251.000000   1251           1251   738   \n",
              "unique                 1239          NaN      3             46    45   \n",
              "top     2014-08-27 12:44:51          NaN   Male  United States    CA   \n",
              "freq                      2          NaN    989            746   138   \n",
              "mean                    NaN    32.076739    NaN            NaN   NaN   \n",
              "std                     NaN     7.288272    NaN            NaN   NaN   \n",
              "min                     NaN    18.000000    NaN            NaN   NaN   \n",
              "25%                     NaN    27.000000    NaN            NaN   NaN   \n",
              "50%                     NaN    31.000000    NaN            NaN   NaN   \n",
              "75%                     NaN    36.000000    NaN            NaN   NaN   \n",
              "max                     NaN    72.000000    NaN            NaN   NaN   \n",
              "\n",
              "       self_employed family_history treatment work_interfere no_employees  \\\n",
              "count           1233           1251      1251            989         1251   \n",
              "unique             2              2         2              4            6   \n",
              "top               No             No       Yes      Sometimes         6-25   \n",
              "freq            1091            762       632            464          289   \n",
              "mean             NaN            NaN       NaN            NaN          NaN   \n",
              "std              NaN            NaN       NaN            NaN          NaN   \n",
              "min              NaN            NaN       NaN            NaN          NaN   \n",
              "25%              NaN            NaN       NaN            NaN          NaN   \n",
              "50%              NaN            NaN       NaN            NaN          NaN   \n",
              "75%              NaN            NaN       NaN            NaN          NaN   \n",
              "max              NaN            NaN       NaN            NaN          NaN   \n",
              "\n",
              "        ...       leave mental_health_consequence phys_health_consequence  \\\n",
              "count   ...        1251                      1251                    1251   \n",
              "unique  ...           5                         3                       3   \n",
              "top     ...  Don't know                        No                      No   \n",
              "freq    ...         561                       487                     920   \n",
              "mean    ...         NaN                       NaN                     NaN   \n",
              "std     ...         NaN                       NaN                     NaN   \n",
              "min     ...         NaN                       NaN                     NaN   \n",
              "25%     ...         NaN                       NaN                     NaN   \n",
              "50%     ...         NaN                       NaN                     NaN   \n",
              "75%     ...         NaN                       NaN                     NaN   \n",
              "max     ...         NaN                       NaN                     NaN   \n",
              "\n",
              "           coworkers supervisor mental_health_interview phys_health_interview  \\\n",
              "count           1251       1251                    1251                  1251   \n",
              "unique             3          3                       3                     3   \n",
              "top     Some of them        Yes                      No                 Maybe   \n",
              "freq             771        512                    1003                   555   \n",
              "mean             NaN        NaN                     NaN                   NaN   \n",
              "std              NaN        NaN                     NaN                   NaN   \n",
              "min              NaN        NaN                     NaN                   NaN   \n",
              "25%              NaN        NaN                     NaN                   NaN   \n",
              "50%              NaN        NaN                     NaN                   NaN   \n",
              "75%              NaN        NaN                     NaN                   NaN   \n",
              "max              NaN        NaN                     NaN                   NaN   \n",
              "\n",
              "       mental_vs_physical obs_consequence                         comments  \n",
              "count                1251            1251                              161  \n",
              "unique                  3               2                              157  \n",
              "top            Don't know              No  * Small family business - YMMV.  \n",
              "freq                  574            1070                                5  \n",
              "mean                  NaN             NaN                              NaN  \n",
              "std                   NaN             NaN                              NaN  \n",
              "min                   NaN             NaN                              NaN  \n",
              "25%                   NaN             NaN                              NaN  \n",
              "50%                   NaN             NaN                              NaN  \n",
              "75%                   NaN             NaN                              NaN  \n",
              "max                   NaN             NaN                              NaN  \n",
              "\n",
              "[11 rows x 27 columns]"
            ],
            "text/html": [
              "\n",
              "  <div id=\"df-bc337fd5-c88a-4535-8316-2624af8bd254\">\n",
              "    <div class=\"colab-df-container\">\n",
              "      <div>\n",
              "<style scoped>\n",
              "    .dataframe tbody tr th:only-of-type {\n",
              "        vertical-align: middle;\n",
              "    }\n",
              "\n",
              "    .dataframe tbody tr th {\n",
              "        vertical-align: top;\n",
              "    }\n",
              "\n",
              "    .dataframe thead th {\n",
              "        text-align: right;\n",
              "    }\n",
              "</style>\n",
              "<table border=\"1\" class=\"dataframe\">\n",
              "  <thead>\n",
              "    <tr style=\"text-align: right;\">\n",
              "      <th></th>\n",
              "      <th>Timestamp</th>\n",
              "      <th>Age</th>\n",
              "      <th>Gender</th>\n",
              "      <th>Country</th>\n",
              "      <th>state</th>\n",
              "      <th>self_employed</th>\n",
              "      <th>family_history</th>\n",
              "      <th>treatment</th>\n",
              "      <th>work_interfere</th>\n",
              "      <th>no_employees</th>\n",
              "      <th>...</th>\n",
              "      <th>leave</th>\n",
              "      <th>mental_health_consequence</th>\n",
              "      <th>phys_health_consequence</th>\n",
              "      <th>coworkers</th>\n",
              "      <th>supervisor</th>\n",
              "      <th>mental_health_interview</th>\n",
              "      <th>phys_health_interview</th>\n",
              "      <th>mental_vs_physical</th>\n",
              "      <th>obs_consequence</th>\n",
              "      <th>comments</th>\n",
              "    </tr>\n",
              "  </thead>\n",
              "  <tbody>\n",
              "    <tr>\n",
              "      <th>count</th>\n",
              "      <td>1251</td>\n",
              "      <td>1251.000000</td>\n",
              "      <td>1251</td>\n",
              "      <td>1251</td>\n",
              "      <td>738</td>\n",
              "      <td>1233</td>\n",
              "      <td>1251</td>\n",
              "      <td>1251</td>\n",
              "      <td>989</td>\n",
              "      <td>1251</td>\n",
              "      <td>...</td>\n",
              "      <td>1251</td>\n",
              "      <td>1251</td>\n",
              "      <td>1251</td>\n",
              "      <td>1251</td>\n",
              "      <td>1251</td>\n",
              "      <td>1251</td>\n",
              "      <td>1251</td>\n",
              "      <td>1251</td>\n",
              "      <td>1251</td>\n",
              "      <td>161</td>\n",
              "    </tr>\n",
              "    <tr>\n",
              "      <th>unique</th>\n",
              "      <td>1239</td>\n",
              "      <td>NaN</td>\n",
              "      <td>3</td>\n",
              "      <td>46</td>\n",
              "      <td>45</td>\n",
              "      <td>2</td>\n",
              "      <td>2</td>\n",
              "      <td>2</td>\n",
              "      <td>4</td>\n",
              "      <td>6</td>\n",
              "      <td>...</td>\n",
              "      <td>5</td>\n",
              "      <td>3</td>\n",
              "      <td>3</td>\n",
              "      <td>3</td>\n",
              "      <td>3</td>\n",
              "      <td>3</td>\n",
              "      <td>3</td>\n",
              "      <td>3</td>\n",
              "      <td>2</td>\n",
              "      <td>157</td>\n",
              "    </tr>\n",
              "    <tr>\n",
              "      <th>top</th>\n",
              "      <td>2014-08-27 12:44:51</td>\n",
              "      <td>NaN</td>\n",
              "      <td>Male</td>\n",
              "      <td>United States</td>\n",
              "      <td>CA</td>\n",
              "      <td>No</td>\n",
              "      <td>No</td>\n",
              "      <td>Yes</td>\n",
              "      <td>Sometimes</td>\n",
              "      <td>6-25</td>\n",
              "      <td>...</td>\n",
              "      <td>Don't know</td>\n",
              "      <td>No</td>\n",
              "      <td>No</td>\n",
              "      <td>Some of them</td>\n",
              "      <td>Yes</td>\n",
              "      <td>No</td>\n",
              "      <td>Maybe</td>\n",
              "      <td>Don't know</td>\n",
              "      <td>No</td>\n",
              "      <td>* Small family business - YMMV.</td>\n",
              "    </tr>\n",
              "    <tr>\n",
              "      <th>freq</th>\n",
              "      <td>2</td>\n",
              "      <td>NaN</td>\n",
              "      <td>989</td>\n",
              "      <td>746</td>\n",
              "      <td>138</td>\n",
              "      <td>1091</td>\n",
              "      <td>762</td>\n",
              "      <td>632</td>\n",
              "      <td>464</td>\n",
              "      <td>289</td>\n",
              "      <td>...</td>\n",
              "      <td>561</td>\n",
              "      <td>487</td>\n",
              "      <td>920</td>\n",
              "      <td>771</td>\n",
              "      <td>512</td>\n",
              "      <td>1003</td>\n",
              "      <td>555</td>\n",
              "      <td>574</td>\n",
              "      <td>1070</td>\n",
              "      <td>5</td>\n",
              "    </tr>\n",
              "    <tr>\n",
              "      <th>mean</th>\n",
              "      <td>NaN</td>\n",
              "      <td>32.076739</td>\n",
              "      <td>NaN</td>\n",
              "      <td>NaN</td>\n",
              "      <td>NaN</td>\n",
              "      <td>NaN</td>\n",
              "      <td>NaN</td>\n",
              "      <td>NaN</td>\n",
              "      <td>NaN</td>\n",
              "      <td>NaN</td>\n",
              "      <td>...</td>\n",
              "      <td>NaN</td>\n",
              "      <td>NaN</td>\n",
              "      <td>NaN</td>\n",
              "      <td>NaN</td>\n",
              "      <td>NaN</td>\n",
              "      <td>NaN</td>\n",
              "      <td>NaN</td>\n",
              "      <td>NaN</td>\n",
              "      <td>NaN</td>\n",
              "      <td>NaN</td>\n",
              "    </tr>\n",
              "    <tr>\n",
              "      <th>std</th>\n",
              "      <td>NaN</td>\n",
              "      <td>7.288272</td>\n",
              "      <td>NaN</td>\n",
              "      <td>NaN</td>\n",
              "      <td>NaN</td>\n",
              "      <td>NaN</td>\n",
              "      <td>NaN</td>\n",
              "      <td>NaN</td>\n",
              "      <td>NaN</td>\n",
              "      <td>NaN</td>\n",
              "      <td>...</td>\n",
              "      <td>NaN</td>\n",
              "      <td>NaN</td>\n",
              "      <td>NaN</td>\n",
              "      <td>NaN</td>\n",
              "      <td>NaN</td>\n",
              "      <td>NaN</td>\n",
              "      <td>NaN</td>\n",
              "      <td>NaN</td>\n",
              "      <td>NaN</td>\n",
              "      <td>NaN</td>\n",
              "    </tr>\n",
              "    <tr>\n",
              "      <th>min</th>\n",
              "      <td>NaN</td>\n",
              "      <td>18.000000</td>\n",
              "      <td>NaN</td>\n",
              "      <td>NaN</td>\n",
              "      <td>NaN</td>\n",
              "      <td>NaN</td>\n",
              "      <td>NaN</td>\n",
              "      <td>NaN</td>\n",
              "      <td>NaN</td>\n",
              "      <td>NaN</td>\n",
              "      <td>...</td>\n",
              "      <td>NaN</td>\n",
              "      <td>NaN</td>\n",
              "      <td>NaN</td>\n",
              "      <td>NaN</td>\n",
              "      <td>NaN</td>\n",
              "      <td>NaN</td>\n",
              "      <td>NaN</td>\n",
              "      <td>NaN</td>\n",
              "      <td>NaN</td>\n",
              "      <td>NaN</td>\n",
              "    </tr>\n",
              "    <tr>\n",
              "      <th>25%</th>\n",
              "      <td>NaN</td>\n",
              "      <td>27.000000</td>\n",
              "      <td>NaN</td>\n",
              "      <td>NaN</td>\n",
              "      <td>NaN</td>\n",
              "      <td>NaN</td>\n",
              "      <td>NaN</td>\n",
              "      <td>NaN</td>\n",
              "      <td>NaN</td>\n",
              "      <td>NaN</td>\n",
              "      <td>...</td>\n",
              "      <td>NaN</td>\n",
              "      <td>NaN</td>\n",
              "      <td>NaN</td>\n",
              "      <td>NaN</td>\n",
              "      <td>NaN</td>\n",
              "      <td>NaN</td>\n",
              "      <td>NaN</td>\n",
              "      <td>NaN</td>\n",
              "      <td>NaN</td>\n",
              "      <td>NaN</td>\n",
              "    </tr>\n",
              "    <tr>\n",
              "      <th>50%</th>\n",
              "      <td>NaN</td>\n",
              "      <td>31.000000</td>\n",
              "      <td>NaN</td>\n",
              "      <td>NaN</td>\n",
              "      <td>NaN</td>\n",
              "      <td>NaN</td>\n",
              "      <td>NaN</td>\n",
              "      <td>NaN</td>\n",
              "      <td>NaN</td>\n",
              "      <td>NaN</td>\n",
              "      <td>...</td>\n",
              "      <td>NaN</td>\n",
              "      <td>NaN</td>\n",
              "      <td>NaN</td>\n",
              "      <td>NaN</td>\n",
              "      <td>NaN</td>\n",
              "      <td>NaN</td>\n",
              "      <td>NaN</td>\n",
              "      <td>NaN</td>\n",
              "      <td>NaN</td>\n",
              "      <td>NaN</td>\n",
              "    </tr>\n",
              "    <tr>\n",
              "      <th>75%</th>\n",
              "      <td>NaN</td>\n",
              "      <td>36.000000</td>\n",
              "      <td>NaN</td>\n",
              "      <td>NaN</td>\n",
              "      <td>NaN</td>\n",
              "      <td>NaN</td>\n",
              "      <td>NaN</td>\n",
              "      <td>NaN</td>\n",
              "      <td>NaN</td>\n",
              "      <td>NaN</td>\n",
              "      <td>...</td>\n",
              "      <td>NaN</td>\n",
              "      <td>NaN</td>\n",
              "      <td>NaN</td>\n",
              "      <td>NaN</td>\n",
              "      <td>NaN</td>\n",
              "      <td>NaN</td>\n",
              "      <td>NaN</td>\n",
              "      <td>NaN</td>\n",
              "      <td>NaN</td>\n",
              "      <td>NaN</td>\n",
              "    </tr>\n",
              "    <tr>\n",
              "      <th>max</th>\n",
              "      <td>NaN</td>\n",
              "      <td>72.000000</td>\n",
              "      <td>NaN</td>\n",
              "      <td>NaN</td>\n",
              "      <td>NaN</td>\n",
              "      <td>NaN</td>\n",
              "      <td>NaN</td>\n",
              "      <td>NaN</td>\n",
              "      <td>NaN</td>\n",
              "      <td>NaN</td>\n",
              "      <td>...</td>\n",
              "      <td>NaN</td>\n",
              "      <td>NaN</td>\n",
              "      <td>NaN</td>\n",
              "      <td>NaN</td>\n",
              "      <td>NaN</td>\n",
              "      <td>NaN</td>\n",
              "      <td>NaN</td>\n",
              "      <td>NaN</td>\n",
              "      <td>NaN</td>\n",
              "      <td>NaN</td>\n",
              "    </tr>\n",
              "  </tbody>\n",
              "</table>\n",
              "<p>11 rows × 27 columns</p>\n",
              "</div>\n",
              "      <button class=\"colab-df-convert\" onclick=\"convertToInteractive('df-bc337fd5-c88a-4535-8316-2624af8bd254')\"\n",
              "              title=\"Convert this dataframe to an interactive table.\"\n",
              "              style=\"display:none;\">\n",
              "        \n",
              "  <svg xmlns=\"http://www.w3.org/2000/svg\" height=\"24px\"viewBox=\"0 0 24 24\"\n",
              "       width=\"24px\">\n",
              "    <path d=\"M0 0h24v24H0V0z\" fill=\"none\"/>\n",
              "    <path d=\"M18.56 5.44l.94 2.06.94-2.06 2.06-.94-2.06-.94-.94-2.06-.94 2.06-2.06.94zm-11 1L8.5 8.5l.94-2.06 2.06-.94-2.06-.94L8.5 2.5l-.94 2.06-2.06.94zm10 10l.94 2.06.94-2.06 2.06-.94-2.06-.94-.94-2.06-.94 2.06-2.06.94z\"/><path d=\"M17.41 7.96l-1.37-1.37c-.4-.4-.92-.59-1.43-.59-.52 0-1.04.2-1.43.59L10.3 9.45l-7.72 7.72c-.78.78-.78 2.05 0 2.83L4 21.41c.39.39.9.59 1.41.59.51 0 1.02-.2 1.41-.59l7.78-7.78 2.81-2.81c.8-.78.8-2.07 0-2.86zM5.41 20L4 18.59l7.72-7.72 1.47 1.35L5.41 20z\"/>\n",
              "  </svg>\n",
              "      </button>\n",
              "      \n",
              "  <style>\n",
              "    .colab-df-container {\n",
              "      display:flex;\n",
              "      flex-wrap:wrap;\n",
              "      gap: 12px;\n",
              "    }\n",
              "\n",
              "    .colab-df-convert {\n",
              "      background-color: #E8F0FE;\n",
              "      border: none;\n",
              "      border-radius: 50%;\n",
              "      cursor: pointer;\n",
              "      display: none;\n",
              "      fill: #1967D2;\n",
              "      height: 32px;\n",
              "      padding: 0 0 0 0;\n",
              "      width: 32px;\n",
              "    }\n",
              "\n",
              "    .colab-df-convert:hover {\n",
              "      background-color: #E2EBFA;\n",
              "      box-shadow: 0px 1px 2px rgba(60, 64, 67, 0.3), 0px 1px 3px 1px rgba(60, 64, 67, 0.15);\n",
              "      fill: #174EA6;\n",
              "    }\n",
              "\n",
              "    [theme=dark] .colab-df-convert {\n",
              "      background-color: #3B4455;\n",
              "      fill: #D2E3FC;\n",
              "    }\n",
              "\n",
              "    [theme=dark] .colab-df-convert:hover {\n",
              "      background-color: #434B5C;\n",
              "      box-shadow: 0px 1px 3px 1px rgba(0, 0, 0, 0.15);\n",
              "      filter: drop-shadow(0px 1px 2px rgba(0, 0, 0, 0.3));\n",
              "      fill: #FFFFFF;\n",
              "    }\n",
              "  </style>\n",
              "\n",
              "      <script>\n",
              "        const buttonEl =\n",
              "          document.querySelector('#df-bc337fd5-c88a-4535-8316-2624af8bd254 button.colab-df-convert');\n",
              "        buttonEl.style.display =\n",
              "          google.colab.kernel.accessAllowed ? 'block' : 'none';\n",
              "\n",
              "        async function convertToInteractive(key) {\n",
              "          const element = document.querySelector('#df-bc337fd5-c88a-4535-8316-2624af8bd254');\n",
              "          const dataTable =\n",
              "            await google.colab.kernel.invokeFunction('convertToInteractive',\n",
              "                                                     [key], {});\n",
              "          if (!dataTable) return;\n",
              "\n",
              "          const docLinkHtml = 'Like what you see? Visit the ' +\n",
              "            '<a target=\"_blank\" href=https://colab.research.google.com/notebooks/data_table.ipynb>data table notebook</a>'\n",
              "            + ' to learn more about interactive tables.';\n",
              "          element.innerHTML = '';\n",
              "          dataTable['output_type'] = 'display_data';\n",
              "          await google.colab.output.renderOutput(dataTable, element);\n",
              "          const docLink = document.createElement('div');\n",
              "          docLink.innerHTML = docLinkHtml;\n",
              "          element.appendChild(docLink);\n",
              "        }\n",
              "      </script>\n",
              "    </div>\n",
              "  </div>\n",
              "  "
            ]
          },
          "metadata": {},
          "execution_count": 44
        }
      ],
      "source": [
        "df.describe(include =\"all\")"
      ]
    },
    {
      "cell_type": "code",
      "execution_count": 45,
      "id": "4ade06ff",
      "metadata": {
        "id": "4ade06ff",
        "colab": {
          "base_uri": "https://localhost:8080/",
          "height": 295
        },
        "outputId": "ce74d88a-b755-4f6d-a1b6-f4a0b0ef51c6"
      },
      "outputs": [
        {
          "output_type": "display_data",
          "data": {
            "text/plain": [
              "<Figure size 720x288 with 1 Axes>"
            ],
            "image/png": "[encoded data removed]"
          },
          "metadata": {}
        }
      ],
      "source": [
        "#df.plt.hist(column = 'Age', bins= int(np.sqrt(len(df['Age']))))\n",
        "sns.set_style(\"darkgrid\")\n",
        "plt.figure(figsize=(10, 4))\n",
        "plt.hist(df['Age'], bins= int(np.sqrt(1275)))\n",
        "plt.xlabel(\"Age\")\n",
        "plt.ylabel(\"Frequency\")\n",
        "plt.title(\"Distribution of ages\")\n",
        "plt.show()"
      ]
    },
    {
      "cell_type": "code",
      "execution_count": 46,
      "id": "43d7c9c2",
      "metadata": {
        "id": "43d7c9c2"
      },
      "outputs": [],
      "source": [
        "#df.set_index('benefits').plot(kind='bar', stacked=True, color=['green', 'red'])"
      ]
    },
    {
      "cell_type": "code",
      "execution_count": 47,
      "id": "35c27097",
      "metadata": {
        "id": "35c27097",
        "colab": {
          "base_uri": "https://localhost:8080/",
          "height": 296
        },
        "outputId": "7cbb4373-1fd6-49dc-a6fa-9b08a3f818fe"
      },
      "outputs": [
        {
          "output_type": "execute_result",
          "data": {
            "text/plain": [
              "<matplotlib.axes._subplots.AxesSubplot at 0x7f155e8cf990>"
            ]
          },
          "metadata": {},
          "execution_count": 47
        },
        {
          "output_type": "display_data",
          "data": {
            "text/plain": [
              "<Figure size 432x288 with 1 Axes>"
            ],
            "image/png": "[encoded data removed]"
          },
          "metadata": {}
        }
      ],
      "source": [
        "sns.countplot(data=df, x='supervisor', hue='treatment')"
      ]
    },
    {
      "cell_type": "markdown",
      "id": "0bdb7bf1",
      "metadata": {
        "id": "0bdb7bf1"
      },
      "source": [
        "Making stacked bar plot"
      ]
    },
    {
      "cell_type": "code",
      "execution_count": 48,
      "id": "34199acb",
      "metadata": {
        "id": "34199acb",
        "colab": {
          "base_uri": "https://localhost:8080/",
          "height": 306
        },
        "outputId": "2f2e10b7-30c1-4b52-d7ef-8e381deae8be"
      },
      "outputs": [
        {
          "output_type": "stream",
          "name": "stderr",
          "text": [
            "/usr/local/lib/python3.7/dist-packages/ipykernel_launcher.py:5: SettingWithCopyWarning: \n",
            "A value is trying to be set on a copy of a slice from a DataFrame.\n",
            "Try using .loc[row_indexer,col_indexer] = value instead\n",
            "\n",
            "See the caveats in the documentation: https://pandas.pydata.org/pandas-docs/stable/user_guide/indexing.html#returning-a-view-versus-a-copy\n",
            "  \"\"\"\n"
          ]
        },
        {
          "output_type": "execute_result",
          "data": {
            "text/plain": [
              "   treatment  seek_help  coworkers  supervisor  care_options\n",
              "0          1          1          3           1             4\n",
              "1          2          4          2           2             2\n",
              "2          2          2          1           1             2\n",
              "3          1          2          3           2             1\n",
              "4          2          4          3           1             2"
            ],
            "text/html": [
              "\n",
              "  <div id=\"df-7c2e9950-b964-4b09-b8ab-9c3781b2172d\">\n",
              "    <div class=\"colab-df-container\">\n",
              "      <div>\n",
              "<style scoped>\n",
              "    .dataframe tbody tr th:only-of-type {\n",
              "        vertical-align: middle;\n",
              "    }\n",
              "\n",
              "    .dataframe tbody tr th {\n",
              "        vertical-align: top;\n",
              "    }\n",
              "\n",
              "    .dataframe thead th {\n",
              "        text-align: right;\n",
              "    }\n",
              "</style>\n",
              "<table border=\"1\" class=\"dataframe\">\n",
              "  <thead>\n",
              "    <tr style=\"text-align: right;\">\n",
              "      <th></th>\n",
              "      <th>treatment</th>\n",
              "      <th>seek_help</th>\n",
              "      <th>coworkers</th>\n",
              "      <th>supervisor</th>\n",
              "      <th>care_options</th>\n",
              "    </tr>\n",
              "  </thead>\n",
              "  <tbody>\n",
              "    <tr>\n",
              "      <th>0</th>\n",
              "      <td>1</td>\n",
              "      <td>1</td>\n",
              "      <td>3</td>\n",
              "      <td>1</td>\n",
              "      <td>4</td>\n",
              "    </tr>\n",
              "    <tr>\n",
              "      <th>1</th>\n",
              "      <td>2</td>\n",
              "      <td>4</td>\n",
              "      <td>2</td>\n",
              "      <td>2</td>\n",
              "      <td>2</td>\n",
              "    </tr>\n",
              "    <tr>\n",
              "      <th>2</th>\n",
              "      <td>2</td>\n",
              "      <td>2</td>\n",
              "      <td>1</td>\n",
              "      <td>1</td>\n",
              "      <td>2</td>\n",
              "    </tr>\n",
              "    <tr>\n",
              "      <th>3</th>\n",
              "      <td>1</td>\n",
              "      <td>2</td>\n",
              "      <td>3</td>\n",
              "      <td>2</td>\n",
              "      <td>1</td>\n",
              "    </tr>\n",
              "    <tr>\n",
              "      <th>4</th>\n",
              "      <td>2</td>\n",
              "      <td>4</td>\n",
              "      <td>3</td>\n",
              "      <td>1</td>\n",
              "      <td>2</td>\n",
              "    </tr>\n",
              "  </tbody>\n",
              "</table>\n",
              "</div>\n",
              "      <button class=\"colab-df-convert\" onclick=\"convertToInteractive('df-7c2e9950-b964-4b09-b8ab-9c3781b2172d')\"\n",
              "              title=\"Convert this dataframe to an interactive table.\"\n",
              "              style=\"display:none;\">\n",
              "        \n",
              "  <svg xmlns=\"http://www.w3.org/2000/svg\" height=\"24px\"viewBox=\"0 0 24 24\"\n",
              "       width=\"24px\">\n",
              "    <path d=\"M0 0h24v24H0V0z\" fill=\"none\"/>\n",
              "    <path d=\"M18.56 5.44l.94 2.06.94-2.06 2.06-.94-2.06-.94-.94-2.06-.94 2.06-2.06.94zm-11 1L8.5 8.5l.94-2.06 2.06-.94-2.06-.94L8.5 2.5l-.94 2.06-2.06.94zm10 10l.94 2.06.94-2.06 2.06-.94-2.06-.94-.94-2.06-.94 2.06-2.06.94z\"/><path d=\"M17.41 7.96l-1.37-1.37c-.4-.4-.92-.59-1.43-.59-.52 0-1.04.2-1.43.59L10.3 9.45l-7.72 7.72c-.78.78-.78 2.05 0 2.83L4 21.41c.39.39.9.59 1.41.59.51 0 1.02-.2 1.41-.59l7.78-7.78 2.81-2.81c.8-.78.8-2.07 0-2.86zM5.41 20L4 18.59l7.72-7.72 1.47 1.35L5.41 20z\"/>\n",
              "  </svg>\n",
              "      </button>\n",
              "      \n",
              "  <style>\n",
              "    .colab-df-container {\n",
              "      display:flex;\n",
              "      flex-wrap:wrap;\n",
              "      gap: 12px;\n",
              "    }\n",
              "\n",
              "    .colab-df-convert {\n",
              "      background-color: #E8F0FE;\n",
              "      border: none;\n",
              "      border-radius: 50%;\n",
              "      cursor: pointer;\n",
              "      display: none;\n",
              "      fill: #1967D2;\n",
              "      height: 32px;\n",
              "      padding: 0 0 0 0;\n",
              "      width: 32px;\n",
              "    }\n",
              "\n",
              "    .colab-df-convert:hover {\n",
              "      background-color: #E2EBFA;\n",
              "      box-shadow: 0px 1px 2px rgba(60, 64, 67, 0.3), 0px 1px 3px 1px rgba(60, 64, 67, 0.15);\n",
              "      fill: #174EA6;\n",
              "    }\n",
              "\n",
              "    [theme=dark] .colab-df-convert {\n",
              "      background-color: #3B4455;\n",
              "      fill: #D2E3FC;\n",
              "    }\n",
              "\n",
              "    [theme=dark] .colab-df-convert:hover {\n",
              "      background-color: #434B5C;\n",
              "      box-shadow: 0px 1px 3px 1px rgba(0, 0, 0, 0.15);\n",
              "      filter: drop-shadow(0px 1px 2px rgba(0, 0, 0, 0.3));\n",
              "      fill: #FFFFFF;\n",
              "    }\n",
              "  </style>\n",
              "\n",
              "      <script>\n",
              "        const buttonEl =\n",
              "          document.querySelector('#df-7c2e9950-b964-4b09-b8ab-9c3781b2172d button.colab-df-convert');\n",
              "        buttonEl.style.display =\n",
              "          google.colab.kernel.accessAllowed ? 'block' : 'none';\n",
              "\n",
              "        async function convertToInteractive(key) {\n",
              "          const element = document.querySelector('#df-7c2e9950-b964-4b09-b8ab-9c3781b2172d');\n",
              "          const dataTable =\n",
              "            await google.colab.kernel.invokeFunction('convertToInteractive',\n",
              "                                                     [key], {});\n",
              "          if (!dataTable) return;\n",
              "\n",
              "          const docLinkHtml = 'Like what you see? Visit the ' +\n",
              "            '<a target=\"_blank\" href=https://colab.research.google.com/notebooks/data_table.ipynb>data table notebook</a>'\n",
              "            + ' to learn more about interactive tables.';\n",
              "          element.innerHTML = '';\n",
              "          dataTable['output_type'] = 'display_data';\n",
              "          await google.colab.output.renderOutput(dataTable, element);\n",
              "          const docLink = document.createElement('div');\n",
              "          docLink.innerHTML = docLinkHtml;\n",
              "          element.appendChild(docLink);\n",
              "        }\n",
              "      </script>\n",
              "    </div>\n",
              "  </div>\n",
              "  "
            ]
          },
          "metadata": {},
          "execution_count": 48
        }
      ],
      "source": [
        "data_chart = df[['treatment','seek_help', 'coworkers', 'supervisor', 'care_options' ]] \n",
        "data_encoding = {'Yes': 1, 'No': 2, 'Some of them': 3, \"Don't know\": 4, 'Not sure': 4} \n",
        "# dont know and not sure are treated the same\n",
        "for i in data_chart.columns: \n",
        "    data_chart[i] = data_chart[i].replace(data_encoding)\n",
        "    \n",
        "data_chart.head()"
      ]
    },
    {
      "cell_type": "code",
      "execution_count": 49,
      "id": "91a938f9",
      "metadata": {
        "id": "91a938f9",
        "colab": {
          "base_uri": "https://localhost:8080/",
          "height": 204
        },
        "outputId": "f4fa7255-47ed-4ba5-df97-543ecac72b25"
      },
      "outputs": [
        {
          "output_type": "execute_result",
          "data": {
            "text/plain": [
              "                      1          2          3          4\n",
              "treatment     50.519584  49.480416   0.000000   0.000000\n",
              "seek_help     19.744205  51.239009   0.000000  29.016787\n",
              "coworkers     17.745803  20.623501  61.630695   0.000000\n",
              "supervisor    40.927258  31.175060  27.897682   0.000000\n",
              "care_options  35.091926  39.888090   0.000000  25.019984"
            ],
            "text/html": [
              "\n",
              "  <div id=\"df-e3abde16-355e-4d2e-818f-438e6c800cce\">\n",
              "    <div class=\"colab-df-container\">\n",
              "      <div>\n",
              "<style scoped>\n",
              "    .dataframe tbody tr th:only-of-type {\n",
              "        vertical-align: middle;\n",
              "    }\n",
              "\n",
              "    .dataframe tbody tr th {\n",
              "        vertical-align: top;\n",
              "    }\n",
              "\n",
              "    .dataframe thead th {\n",
              "        text-align: right;\n",
              "    }\n",
              "</style>\n",
              "<table border=\"1\" class=\"dataframe\">\n",
              "  <thead>\n",
              "    <tr style=\"text-align: right;\">\n",
              "      <th></th>\n",
              "      <th>1</th>\n",
              "      <th>2</th>\n",
              "      <th>3</th>\n",
              "      <th>4</th>\n",
              "    </tr>\n",
              "  </thead>\n",
              "  <tbody>\n",
              "    <tr>\n",
              "      <th>treatment</th>\n",
              "      <td>50.519584</td>\n",
              "      <td>49.480416</td>\n",
              "      <td>0.000000</td>\n",
              "      <td>0.000000</td>\n",
              "    </tr>\n",
              "    <tr>\n",
              "      <th>seek_help</th>\n",
              "      <td>19.744205</td>\n",
              "      <td>51.239009</td>\n",
              "      <td>0.000000</td>\n",
              "      <td>29.016787</td>\n",
              "    </tr>\n",
              "    <tr>\n",
              "      <th>coworkers</th>\n",
              "      <td>17.745803</td>\n",
              "      <td>20.623501</td>\n",
              "      <td>61.630695</td>\n",
              "      <td>0.000000</td>\n",
              "    </tr>\n",
              "    <tr>\n",
              "      <th>supervisor</th>\n",
              "      <td>40.927258</td>\n",
              "      <td>31.175060</td>\n",
              "      <td>27.897682</td>\n",
              "      <td>0.000000</td>\n",
              "    </tr>\n",
              "    <tr>\n",
              "      <th>care_options</th>\n",
              "      <td>35.091926</td>\n",
              "      <td>39.888090</td>\n",
              "      <td>0.000000</td>\n",
              "      <td>25.019984</td>\n",
              "    </tr>\n",
              "  </tbody>\n",
              "</table>\n",
              "</div>\n",
              "      <button class=\"colab-df-convert\" onclick=\"convertToInteractive('df-e3abde16-355e-4d2e-818f-438e6c800cce')\"\n",
              "              title=\"Convert this dataframe to an interactive table.\"\n",
              "              style=\"display:none;\">\n",
              "        \n",
              "  <svg xmlns=\"http://www.w3.org/2000/svg\" height=\"24px\"viewBox=\"0 0 24 24\"\n",
              "       width=\"24px\">\n",
              "    <path d=\"M0 0h24v24H0V0z\" fill=\"none\"/>\n",
              "    <path d=\"M18.56 5.44l.94 2.06.94-2.06 2.06-.94-2.06-.94-.94-2.06-.94 2.06-2.06.94zm-11 1L8.5 8.5l.94-2.06 2.06-.94-2.06-.94L8.5 2.5l-.94 2.06-2.06.94zm10 10l.94 2.06.94-2.06 2.06-.94-2.06-.94-.94-2.06-.94 2.06-2.06.94z\"/><path d=\"M17.41 7.96l-1.37-1.37c-.4-.4-.92-.59-1.43-.59-.52 0-1.04.2-1.43.59L10.3 9.45l-7.72 7.72c-.78.78-.78 2.05 0 2.83L4 21.41c.39.39.9.59 1.41.59.51 0 1.02-.2 1.41-.59l7.78-7.78 2.81-2.81c.8-.78.8-2.07 0-2.86zM5.41 20L4 18.59l7.72-7.72 1.47 1.35L5.41 20z\"/>\n",
              "  </svg>\n",
              "      </button>\n",
              "      \n",
              "  <style>\n",
              "    .colab-df-container {\n",
              "      display:flex;\n",
              "      flex-wrap:wrap;\n",
              "      gap: 12px;\n",
              "    }\n",
              "\n",
              "    .colab-df-convert {\n",
              "      background-color: #E8F0FE;\n",
              "      border: none;\n",
              "      border-radius: 50%;\n",
              "      cursor: pointer;\n",
              "      display: none;\n",
              "      fill: #1967D2;\n",
              "      height: 32px;\n",
              "      padding: 0 0 0 0;\n",
              "      width: 32px;\n",
              "    }\n",
              "\n",
              "    .colab-df-convert:hover {\n",
              "      background-color: #E2EBFA;\n",
              "      box-shadow: 0px 1px 2px rgba(60, 64, 67, 0.3), 0px 1px 3px 1px rgba(60, 64, 67, 0.15);\n",
              "      fill: #174EA6;\n",
              "    }\n",
              "\n",
              "    [theme=dark] .colab-df-convert {\n",
              "      background-color: #3B4455;\n",
              "      fill: #D2E3FC;\n",
              "    }\n",
              "\n",
              "    [theme=dark] .colab-df-convert:hover {\n",
              "      background-color: #434B5C;\n",
              "      box-shadow: 0px 1px 3px 1px rgba(0, 0, 0, 0.15);\n",
              "      filter: drop-shadow(0px 1px 2px rgba(0, 0, 0, 0.3));\n",
              "      fill: #FFFFFF;\n",
              "    }\n",
              "  </style>\n",
              "\n",
              "      <script>\n",
              "        const buttonEl =\n",
              "          document.querySelector('#df-e3abde16-355e-4d2e-818f-438e6c800cce button.colab-df-convert');\n",
              "        buttonEl.style.display =\n",
              "          google.colab.kernel.accessAllowed ? 'block' : 'none';\n",
              "\n",
              "        async function convertToInteractive(key) {\n",
              "          const element = document.querySelector('#df-e3abde16-355e-4d2e-818f-438e6c800cce');\n",
              "          const dataTable =\n",
              "            await google.colab.kernel.invokeFunction('convertToInteractive',\n",
              "                                                     [key], {});\n",
              "          if (!dataTable) return;\n",
              "\n",
              "          const docLinkHtml = 'Like what you see? Visit the ' +\n",
              "            '<a target=\"_blank\" href=https://colab.research.google.com/notebooks/data_table.ipynb>data table notebook</a>'\n",
              "            + ' to learn more about interactive tables.';\n",
              "          element.innerHTML = '';\n",
              "          dataTable['output_type'] = 'display_data';\n",
              "          await google.colab.output.renderOutput(dataTable, element);\n",
              "          const docLink = document.createElement('div');\n",
              "          docLink.innerHTML = docLinkHtml;\n",
              "          element.appendChild(docLink);\n",
              "        }\n",
              "      </script>\n",
              "    </div>\n",
              "  </div>\n",
              "  "
            ]
          },
          "metadata": {},
          "execution_count": 49
        }
      ],
      "source": [
        "frequencies = {}\n",
        "for i in data_chart.columns: \n",
        "    frequencies[i] = data_chart[i].value_counts()\n",
        "    \n",
        "plotdata = pd.DataFrame(frequencies)\n",
        "plotdata.fillna(0, inplace=True)\n",
        "\n",
        "plotdata = plotdata.transpose()\n",
        "plotdata_percent = plotdata.div(plotdata.sum(axis=1), axis = 0)*100\n",
        "plotdata.head()\n",
        "plotdata_percent.head()"
      ]
    },
    {
      "cell_type": "code",
      "source": [
        "series1 = df.loc[(df[\"treatment\"] == 'Yes')].Age\n",
        "series2 = df.loc[(df[\"treatment\"] == 'No')].Age\n",
        "#series1 = series1[:619]\n",
        "print(series1)\n",
        "print(series2)"
      ],
      "metadata": {
        "id": "0V9ew8mSP9xH",
        "colab": {
          "base_uri": "https://localhost:8080/"
        },
        "outputId": "4cfb33b2-84a1-4809-dce1-00ddc1b89c41"
      },
      "id": "0V9ew8mSP9xH",
      "execution_count": 76,
      "outputs": [
        {
          "output_type": "stream",
          "name": "stdout",
          "text": [
            "0       37\n",
            "3       31\n",
            "6       35\n",
            "8       42\n",
            "10      31\n",
            "        ..\n",
            "1252    29\n",
            "1254    26\n",
            "1255    32\n",
            "1256    34\n",
            "1258    25\n",
            "Name: Age, Length: 632, dtype: int64\n",
            "1       44\n",
            "2       32\n",
            "4       31\n",
            "5       33\n",
            "7       39\n",
            "        ..\n",
            "1239    30\n",
            "1244    32\n",
            "1246    32\n",
            "1253    36\n",
            "1257    46\n",
            "Name: Age, Length: 619, dtype: int64\n"
          ]
        }
      ]
    },
    {
      "cell_type": "code",
      "execution_count": 59,
      "id": "9f621dbc",
      "metadata": {
        "id": "9f621dbc",
        "colab": {
          "base_uri": "https://localhost:8080/"
        },
        "outputId": "f40e6d73-532b-49af-b861-644f45e4dc2d"
      },
      "outputs": [
        {
          "output_type": "stream",
          "name": "stdout",
          "text": [
            "p-value = 0.0261\n"
          ]
        }
      ],
      "source": [
        "# Compute mean of all forces: \n",
        "empirical_diff_means = np.mean(series1) - np.mean(series2)\n",
        "series_conc = np.concatenate((series1, series2))\n",
        "mean_force = np.median(series_conc)\n",
        "\n",
        "\n",
        "# Compute 10,000 bootstrap replicates from shifted arrays\n",
        "bs_replicates_a = dcst.draw_bs_pairs(series1, series2, dcst.diff_of_means, size = 10000)\n",
        "bs_replicates_b = dcst.draw_bs_pairs(series1, series2, dcst.diff_of_means, size = 10000)\n",
        "\n",
        "\n",
        "\n",
        "# Get replicates of difference of means: bs_replicates\n",
        "bs_replicates = bs_replicates_a - bs_replicates_b\n",
        "\n",
        "# Compute and print p-value: p\n",
        "p = np.sum(bs_replicates <= empirical_diff_means) / len(bs_replicates)\n",
        "print('p-value =', p)"
      ]
    },
    {
      "cell_type": "code",
      "source": [
        "plt.hist(bs_replicates_a, bins = 10)\n",
        "plt.title(\"Bootstrap Replicates of Candidates Seeking Treatment according to their Age\")\n",
        "plt.show()\n",
        "plt.hist(bs_replicates_b, bins = 10)\n",
        "plt.title(\"Bootstrap Replicates of Candidates Not Seeking Treatment according to their Age\")\n",
        "plt.show()\n",
        "\n"
      ],
      "metadata": {
        "colab": {
          "base_uri": "https://localhost:8080/",
          "height": 545
        },
        "id": "ri7iadY0qVV6",
        "outputId": "baedc740-b663-4e09-b670-e113b9cce552"
      },
      "id": "ri7iadY0qVV6",
      "execution_count": 77,
      "outputs": [
        {
          "output_type": "display_data",
          "data": {
            "text/plain": [
              "<Figure size 432x288 with 1 Axes>"
            ],
            "image/png": "[encoded data removed]"
          },
          "metadata": {}
        },
        {
          "output_type": "display_data",
          "data": {
            "text/plain": [
              "<Figure size 432x288 with 1 Axes>"
            ],
            "image/png": "[encoded data removed]"
          },
          "metadata": {}
        }
      ]
    },
    {
      "cell_type": "code",
      "execution_count": 58,
      "id": "b4e5c450",
      "metadata": {
        "id": "b4e5c450",
        "colab": {
          "base_uri": "https://localhost:8080/",
          "height": 350
        },
        "outputId": "098cafe8-f1f5-4b3b-ac59-764f3c956e68"
      },
      "outputs": [
        {
          "output_type": "display_data",
          "data": {
            "text/plain": [
              "<Figure size 504x360 with 1 Axes>"
            ],
            "image/png": "[encoded data removed]"
          },
          "metadata": {}
        }
      ],
      "source": [
        "data_colors= {1: '#5ae258', 2: '#fa471b',3: '#1bbafa',  4: '#f0fa1b'} \n",
        "\n",
        "plotdata_percent.plot(kind='barh', stacked=True, color=data_colors, figsize=(7, 5))\n",
        "plt.legend(data_encoding, bbox_to_anchor = (1.05, 1))\n",
        "plt.title(\"Percentage distribution of responses for relevant variables\")\n",
        "plt.ylabel(\"Relevant variables\")\n",
        "plt.xlabel(\"Percent\")\n",
        "plt.show()"
      ]
    },
    {
      "cell_type": "code",
      "source": [
        ""
      ],
      "metadata": {
        "id": "8aVrgrYF4Ftr"
      },
      "id": "8aVrgrYF4Ftr",
      "execution_count": 147,
      "outputs": []
    },
    {
      "cell_type": "code",
      "source": [
        "cat_cols = [\"benefits\", \"family_history\", \"work_interfere\", 'obs_consequence']\n",
        "\n",
        "df_encoded = df.copy()\n",
        "df_encoded = df_encoded[cat_cols]\n",
        "df_encoded = df_encoded.dropna()\n",
        "\n",
        "data_chart = df[['treatment']] \n",
        "data_encoding = {'Yes': 1, 'No': 2, 'Some of them': 3, \"Don't know\": 4, 'Not sure': 4} \n",
        "# dont know and not sure are treated the same\n",
        "for i in data_chart.columns: \n",
        "    data_chart[i] = data_chart[i].replace(data_encoding)\n",
        "    \n",
        "df_encoded['treatment'] = data_chart\n",
        "\n",
        "X = df_encoded[cat_cols]\n",
        "y = df_encoded['treatment']\n",
        "\n",
        "\n",
        "X_train, X_test, y_train, y_test = train_test_split(X, y, test_size=0.30, random_state=42)\n",
        "neigh = KNeighborsClassifier(n_neighbors=5)\n",
        "\n",
        "\n",
        "neigh.fit(X_train, y_train)\n",
        "\n",
        "y_pred = neigh.predict(X_test) \n",
        "\n",
        "testMetrics = {}\n",
        "\n",
        "testMetrics['accuracy'] = accuracy_score(y_test, y_pred)\n",
        "\n",
        "#AUC test \n",
        "fpr, tpr, thresholds = metrics.roc_curve(y_test, y_pred, pos_label=2)\n",
        "testMetrics['auc score'] = metrics.auc(fpr, tpr)\n",
        "\n",
        "lists = sorted(testMetrics.items()) # sorted by key, return a list of tuples\n",
        "\n",
        "x, y = zip(*lists) # unpack a list of pairs into two tuples\n",
        "\n",
        "plt.bar(x, y)\n",
        "plt.show()"
      ],
      "metadata": {
        "id": "_wNdLHeE9RHt",
        "colab": {
          "base_uri": "https://localhost:8080/",
          "height": 367
        },
        "outputId": "5fee7a8f-d693-4693-d063-268992c7dacc"
      },
      "id": "_wNdLHeE9RHt",
      "execution_count": 148,
      "outputs": [
        {
          "output_type": "stream",
          "name": "stderr",
          "text": [
            "/usr/local/lib/python3.7/dist-packages/ipykernel_launcher.py:11: SettingWithCopyWarning: \n",
            "A value is trying to be set on a copy of a slice from a DataFrame.\n",
            "Try using .loc[row_indexer,col_indexer] = value instead\n",
            "\n",
            "See the caveats in the documentation: https://pandas.pydata.org/pandas-docs/stable/user_guide/indexing.html#returning-a-view-versus-a-copy\n",
            "  # This is added back by InteractiveShellApp.init_path()\n"
          ]
        },
        {
          "output_type": "display_data",
          "data": {
            "text/plain": [
              "<Figure size 432x288 with 1 Axes>"
            ],
            "image/png": "[encoded data removed]"
          },
          "metadata": {}
        }
      ]
    },
    {
      "cell_type": "code",
      "source": [
        "neighbors = [i for i in range(1, 11)]\n",
        "\n",
        "scores = []\n",
        "\n",
        "for neighbor in neighbors:\n",
        "  neigh = KNeighborsClassifier(n_neighbors=neighbor)\n",
        "  neigh.fit(X_train, y_train)\n",
        "  y_pred = neigh.predict(X_test) \n",
        "  scores.append(accuracy_score(y_test, y_pred))\n",
        "\n",
        "plt.plot(scores)\n",
        "plt.title(\"Accuracy Score for different neighbours\")"
      ],
      "metadata": {
        "colab": {
          "base_uri": "https://localhost:8080/",
          "height": 298
        },
        "id": "kORTLt3blN5A",
        "outputId": "22cb9ee2-aad8-42b7-a657-1cc7cd5ba236"
      },
      "id": "kORTLt3blN5A",
      "execution_count": 147,
      "outputs": [
        {
          "output_type": "execute_result",
          "data": {
            "text/plain": [
              "Text(0.5, 1.0, 'Accuracy Score for different neighbours')"
            ]
          },
          "metadata": {},
          "execution_count": 147
        },
        {
          "output_type": "display_data",
          "data": {
            "text/plain": [
              "<Figure size 432x288 with 1 Axes>"
            ],
            "image/png": "[encoded data removed]"
          },
          "metadata": {}
        }
      ]
    },
    {
      "cell_type": "code",
      "source": [
        ""
      ],
      "metadata": {
        "id": "xsuPRWczf-1l"
      },
      "id": "xsuPRWczf-1l",
      "execution_count": 149,
      "outputs": []
    },
    {
      "cell_type": "code",
      "source": [
        "\n",
        "cat_cols = [\"benefits\", \"family_history\", \"no_employees\", \"work_interfere\" , \"remote_work\", \"tech_company\",'supervisor', 'obs_consequence']"
      ],
      "metadata": {
        "id": "QGQTh0mggAD-"
      },
      "id": "QGQTh0mggAD-",
      "execution_count": 89,
      "outputs": []
    },
    {
      "cell_type": "code",
      "source": [
        "encoder = OrdinalEncoder()\n",
        "\n",
        "\n"
      ],
      "metadata": {
        "id": "CUtIgenTicP5"
      },
      "id": "CUtIgenTicP5",
      "execution_count": null,
      "outputs": []
    },
    {
      "cell_type": "code",
      "source": [
        "encoder = OrdinalEncoder()\n",
        "def encode(data):\n",
        "    '''function to encode non-null data and replace it in the original data'''\n",
        "    #retains only non-null values\n",
        "    nonulls = np.array(data.dropna())\n",
        "    #reshapes the data for encoding\n",
        "    impute_reshape = nonulls.reshape(-1,1)\n",
        "    #encode date\n",
        "    impute_ordinal = encoder.fit_transform(impute_reshape)\n",
        "    #Assign back encoded values to non-null values\n",
        "    data.loc[data.notnull()] = np.squeeze(impute_ordinal)\n",
        "    return data\n",
        "\n",
        "#create a for loop to iterate through each column in the data\n",
        "for columns in cat_cols:\n",
        "    encode(df_encoded[columns])\n"
      ],
      "metadata": {
        "colab": {
          "base_uri": "https://localhost:8080/"
        },
        "id": "HShl4ZI_gE6k",
        "outputId": "ddac8b66-fcc7-43ce-89dd-e542b9826334"
      },
      "id": "HShl4ZI_gE6k",
      "execution_count": 90,
      "outputs": [
        {
          "output_type": "stream",
          "name": "stderr",
          "text": [
            "/usr/local/lib/python3.7/dist-packages/pandas/core/indexing.py:1732: SettingWithCopyWarning: \n",
            "A value is trying to be set on a copy of a slice from a DataFrame\n",
            "\n",
            "See the caveats in the documentation: https://pandas.pydata.org/pandas-docs/stable/user_guide/indexing.html#returning-a-view-versus-a-copy\n",
            "  self._setitem_single_block(indexer, value, name)\n",
            "/usr/local/lib/python3.7/dist-packages/pandas/core/indexing.py:1732: SettingWithCopyWarning: \n",
            "A value is trying to be set on a copy of a slice from a DataFrame\n",
            "\n",
            "See the caveats in the documentation: https://pandas.pydata.org/pandas-docs/stable/user_guide/indexing.html#returning-a-view-versus-a-copy\n",
            "  self._setitem_single_block(indexer, value, name)\n",
            "/usr/local/lib/python3.7/dist-packages/pandas/core/indexing.py:1732: SettingWithCopyWarning: \n",
            "A value is trying to be set on a copy of a slice from a DataFrame\n",
            "\n",
            "See the caveats in the documentation: https://pandas.pydata.org/pandas-docs/stable/user_guide/indexing.html#returning-a-view-versus-a-copy\n",
            "  self._setitem_single_block(indexer, value, name)\n",
            "/usr/local/lib/python3.7/dist-packages/pandas/core/indexing.py:1732: SettingWithCopyWarning: \n",
            "A value is trying to be set on a copy of a slice from a DataFrame\n",
            "\n",
            "See the caveats in the documentation: https://pandas.pydata.org/pandas-docs/stable/user_guide/indexing.html#returning-a-view-versus-a-copy\n",
            "  self._setitem_single_block(indexer, value, name)\n",
            "/usr/local/lib/python3.7/dist-packages/pandas/core/indexing.py:1732: SettingWithCopyWarning: \n",
            "A value is trying to be set on a copy of a slice from a DataFrame\n",
            "\n",
            "See the caveats in the documentation: https://pandas.pydata.org/pandas-docs/stable/user_guide/indexing.html#returning-a-view-versus-a-copy\n",
            "  self._setitem_single_block(indexer, value, name)\n",
            "/usr/local/lib/python3.7/dist-packages/pandas/core/indexing.py:1732: SettingWithCopyWarning: \n",
            "A value is trying to be set on a copy of a slice from a DataFrame\n",
            "\n",
            "See the caveats in the documentation: https://pandas.pydata.org/pandas-docs/stable/user_guide/indexing.html#returning-a-view-versus-a-copy\n",
            "  self._setitem_single_block(indexer, value, name)\n",
            "/usr/local/lib/python3.7/dist-packages/pandas/core/indexing.py:1732: SettingWithCopyWarning: \n",
            "A value is trying to be set on a copy of a slice from a DataFrame\n",
            "\n",
            "See the caveats in the documentation: https://pandas.pydata.org/pandas-docs/stable/user_guide/indexing.html#returning-a-view-versus-a-copy\n",
            "  self._setitem_single_block(indexer, value, name)\n",
            "/usr/local/lib/python3.7/dist-packages/pandas/core/indexing.py:1732: SettingWithCopyWarning: \n",
            "A value is trying to be set on a copy of a slice from a DataFrame\n",
            "\n",
            "See the caveats in the documentation: https://pandas.pydata.org/pandas-docs/stable/user_guide/indexing.html#returning-a-view-versus-a-copy\n",
            "  self._setitem_single_block(indexer, value, name)\n"
          ]
        }
      ]
    },
    {
      "cell_type": "code",
      "source": [
        ""
      ],
      "metadata": {
        "id": "hd62dXXJhR35"
      },
      "id": "hd62dXXJhR35",
      "execution_count": null,
      "outputs": []
    },
    {
      "cell_type": "code",
      "source": [
        ""
      ],
      "metadata": {
        "id": "kCCPLbyfgG8S"
      },
      "id": "kCCPLbyfgG8S",
      "execution_count": null,
      "outputs": []
    }
  ],
  "metadata": {
    "kernelspec": {
      "display_name": "introds",
      "language": "python",
      "name": "introds"
    },
    "language_info": {
      "codemirror_mode": {
        "name": "ipython",
        "version": 3
      },
      "file_extension": ".py",
      "mimetype": "text/x-python",
      "name": "python",
      "nbconvert_exporter": "python",
      "pygments_lexer": "ipython3",
      "version": "3.9.12"
    },
    "colab": {
      "name": "project.ipynb",
      "provenance": [],
      "collapsed_sections": [],
      "include_colab_link": true
    }
  },
  "nbformat": 4,
  "nbformat_minor": 5
}